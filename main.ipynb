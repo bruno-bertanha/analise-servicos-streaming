{
 "cells": [
  {
   "cell_type": "markdown",
   "metadata": {},
   "source": [
    "# Análise de Serviços de Streaming\n",
    "Esse notebook tem como objetivo analisar preferências e padrões de consumo de serviços de streaming no estado de São Paulo, Brasil. Foi realizada uma pesquisa com 213 pessoas, disponível em https://forms.gle/X9kQZXN3WRQaw6ry9 . Trata-se de um projeto semestral da disciplina de Estatística, do Instituto Mauá de Tecnologia.\n",
    "\n",
    "## Dependências"
   ]
  },
  {
   "cell_type": "code",
   "execution_count": 19,
   "metadata": {},
   "outputs": [],
   "source": [
    "import pandas as pd\n",
    "import numpy as np\n",
    "import plotly.graph_objects as go\n",
    "import plotly.express as px"
   ]
  },
  {
   "cell_type": "markdown",
   "metadata": {},
   "source": [
    "## Lendo dados"
   ]
  },
  {
   "cell_type": "code",
   "execution_count": 20,
   "metadata": {},
   "outputs": [
    {
     "data": {
      "text/html": [
       "<div>\n",
       "<style scoped>\n",
       "    .dataframe tbody tr th:only-of-type {\n",
       "        vertical-align: middle;\n",
       "    }\n",
       "\n",
       "    .dataframe tbody tr th {\n",
       "        vertical-align: top;\n",
       "    }\n",
       "\n",
       "    .dataframe thead th {\n",
       "        text-align: right;\n",
       "    }\n",
       "</style>\n",
       "<table border=\"1\" class=\"dataframe\">\n",
       "  <thead>\n",
       "    <tr style=\"text-align: right;\">\n",
       "      <th></th>\n",
       "      <th>Carimbo de data/hora</th>\n",
       "      <th>Quais serviços você conhece? (selecione uma ou mais)</th>\n",
       "      <th>Quais serviços você ou sua família assinam? (selecione uma ou mais)</th>\n",
       "      <th>Quais serviços você mais gosta? (selecione uma ou mais)</th>\n",
       "      <th>Idade</th>\n",
       "      <th>Gênero</th>\n",
       "      <th>Ocupação</th>\n",
       "      <th>Quantas crianças (menor de 10 anos) moram com você?</th>\n",
       "      <th>Tipo de conteúdo preferido:</th>\n",
       "      <th>Durante a semana, quantas horas você assiste de streaming por dia?</th>\n",
       "      <th>De final de semana, quantas horas você assiste de streaming por dia?</th>\n",
       "      <th>Quais dispositivos você utiliza para assistir streaming? (selecione uma ou mais)</th>\n",
       "      <th>Qual preço você julga justo assinar?</th>\n",
       "      <th>Qual sua renda familiar mensal?</th>\n",
       "      <th>O que poderia melhorar nos serviços de streaming que você assina?</th>\n",
       "    </tr>\n",
       "  </thead>\n",
       "  <tbody>\n",
       "    <tr>\n",
       "      <th>0</th>\n",
       "      <td>2022/05/03 10:21:32 AM GMT-3</td>\n",
       "      <td>Netflix;Disney+;Star+;Prime Video;HBO Max;Hulu...</td>\n",
       "      <td>Netflix;Prime Video;HBO Max</td>\n",
       "      <td>Disney+;Prime Video</td>\n",
       "      <td>20</td>\n",
       "      <td>Masculino</td>\n",
       "      <td>Estudando</td>\n",
       "      <td>0</td>\n",
       "      <td>Séries</td>\n",
       "      <td>1</td>\n",
       "      <td>2</td>\n",
       "      <td>Celular</td>\n",
       "      <td>R$15,00 - R$25,00</td>\n",
       "      <td>R$10.000,00 - R$20.000,00</td>\n",
       "      <td>Maior catálogo de filmes e séries</td>\n",
       "    </tr>\n",
       "    <tr>\n",
       "      <th>1</th>\n",
       "      <td>2022/05/03 10:27:36 AM GMT-3</td>\n",
       "      <td>Netflix;Disney+;Prime Video;HBO Max;Hulu;Globo...</td>\n",
       "      <td>Netflix;Prime Video;Crunchyroll</td>\n",
       "      <td>Netflix;Prime Video;HBO Max</td>\n",
       "      <td>20</td>\n",
       "      <td>Masculino</td>\n",
       "      <td>Estudando</td>\n",
       "      <td>0</td>\n",
       "      <td>Séries</td>\n",
       "      <td>0</td>\n",
       "      <td>1</td>\n",
       "      <td>Smart TV</td>\n",
       "      <td>R$15,00 - R$25,00</td>\n",
       "      <td>Mais de R$20.000,00</td>\n",
       "      <td>Maior catálogo de filmes e séries;Conexão;Inte...</td>\n",
       "    </tr>\n",
       "    <tr>\n",
       "      <th>2</th>\n",
       "      <td>2022/05/03 10:29:52 AM GMT-3</td>\n",
       "      <td>Netflix;Disney+;Star+;Prime Video;HBO Max;Hulu...</td>\n",
       "      <td>Netflix;Disney+;Star+;Prime Video;HBO Max;NBA ...</td>\n",
       "      <td>Netflix;Disney+;Star+;HBO Max</td>\n",
       "      <td>19</td>\n",
       "      <td>Masculino</td>\n",
       "      <td>Estudando</td>\n",
       "      <td>0</td>\n",
       "      <td>Séries</td>\n",
       "      <td>1</td>\n",
       "      <td>1</td>\n",
       "      <td>Smart TV;Google Chromecast ou similar;Tablet o...</td>\n",
       "      <td>R$15,00 - R$25,00</td>\n",
       "      <td>R$10.000,00 - R$20.000,00</td>\n",
       "      <td>Preço</td>\n",
       "    </tr>\n",
       "    <tr>\n",
       "      <th>3</th>\n",
       "      <td>2022/05/03 10:49:56 AM GMT-3</td>\n",
       "      <td>Netflix;Disney+;Star+;Prime Video;HBO Max</td>\n",
       "      <td>Netflix;Disney+;Prime Video;HBO Max</td>\n",
       "      <td>Netflix;Disney+;HBO Max</td>\n",
       "      <td>22</td>\n",
       "      <td>Masculino</td>\n",
       "      <td>Estudando e Trabalhando</td>\n",
       "      <td>0</td>\n",
       "      <td>Séries</td>\n",
       "      <td>5</td>\n",
       "      <td>6</td>\n",
       "      <td>Notebook ou PC</td>\n",
       "      <td>R$25,00 - R$35,00</td>\n",
       "      <td>R$1.000,00 - R$5.000,00</td>\n",
       "      <td>Preço;Maior catálogo de filmes e séries</td>\n",
       "    </tr>\n",
       "    <tr>\n",
       "      <th>4</th>\n",
       "      <td>2022/05/03 10:50:22 AM GMT-3</td>\n",
       "      <td>Netflix;Disney+;Star+;Prime Video;HBO Max;Hulu...</td>\n",
       "      <td>Netflix;Disney+;Star+;Prime Video;HBO Max</td>\n",
       "      <td>Netflix;Disney+;Prime Video;HBO Max;Globoplay</td>\n",
       "      <td>20 anos</td>\n",
       "      <td>Feminino</td>\n",
       "      <td>Estudando e Trabalhando</td>\n",
       "      <td>0</td>\n",
       "      <td>Séries</td>\n",
       "      <td>4</td>\n",
       "      <td>6</td>\n",
       "      <td>Smart TV;Celular</td>\n",
       "      <td>R$15,00 - R$25,00</td>\n",
       "      <td>R$5.000,00 - R$10.000,00</td>\n",
       "      <td>Preço;Maior catálogo de filmes e séries</td>\n",
       "    </tr>\n",
       "  </tbody>\n",
       "</table>\n",
       "</div>"
      ],
      "text/plain": [
       "           Carimbo de data/hora  \\\n",
       "0  2022/05/03 10:21:32 AM GMT-3   \n",
       "1  2022/05/03 10:27:36 AM GMT-3   \n",
       "2  2022/05/03 10:29:52 AM GMT-3   \n",
       "3  2022/05/03 10:49:56 AM GMT-3   \n",
       "4  2022/05/03 10:50:22 AM GMT-3   \n",
       "\n",
       "  Quais serviços você conhece? (selecione uma ou mais)  \\\n",
       "0  Netflix;Disney+;Star+;Prime Video;HBO Max;Hulu...     \n",
       "1  Netflix;Disney+;Prime Video;HBO Max;Hulu;Globo...     \n",
       "2  Netflix;Disney+;Star+;Prime Video;HBO Max;Hulu...     \n",
       "3          Netflix;Disney+;Star+;Prime Video;HBO Max     \n",
       "4  Netflix;Disney+;Star+;Prime Video;HBO Max;Hulu...     \n",
       "\n",
       "  Quais serviços você ou sua família assinam? (selecione uma ou mais)  \\\n",
       "0                        Netflix;Prime Video;HBO Max                    \n",
       "1                   Netflix;Prime Video;Crunchyroll                     \n",
       "2  Netflix;Disney+;Star+;Prime Video;HBO Max;NBA ...                    \n",
       "3                Netflix;Disney+;Prime Video;HBO Max                    \n",
       "4          Netflix;Disney+;Star+;Prime Video;HBO Max                    \n",
       "\n",
       "  Quais serviços você mais gosta? (selecione uma ou mais)    Idade     Gênero  \\\n",
       "0                                Disney+;Prime Video            20  Masculino   \n",
       "1                        Netflix;Prime Video;HBO Max            20  Masculino   \n",
       "2                      Netflix;Disney+;Star+;HBO Max            19  Masculino   \n",
       "3                            Netflix;Disney+;HBO Max            22  Masculino   \n",
       "4      Netflix;Disney+;Prime Video;HBO Max;Globoplay       20 anos   Feminino   \n",
       "\n",
       "                  Ocupação  \\\n",
       "0                Estudando   \n",
       "1                Estudando   \n",
       "2                Estudando   \n",
       "3  Estudando e Trabalhando   \n",
       "4  Estudando e Trabalhando   \n",
       "\n",
       "  Quantas crianças (menor de 10 anos) moram com você?  \\\n",
       "0                                                  0    \n",
       "1                                                  0    \n",
       "2                                                  0    \n",
       "3                                                  0    \n",
       "4                                                  0    \n",
       "\n",
       "  Tipo de conteúdo preferido:  \\\n",
       "0                      Séries   \n",
       "1                      Séries   \n",
       "2                      Séries   \n",
       "3                      Séries   \n",
       "4                      Séries   \n",
       "\n",
       "   Durante a semana, quantas horas você assiste de streaming por dia?  \\\n",
       "0                                                  1                    \n",
       "1                                                  0                    \n",
       "2                                                  1                    \n",
       "3                                                  5                    \n",
       "4                                                  4                    \n",
       "\n",
       "   De final de semana, quantas horas você assiste de streaming por dia?  \\\n",
       "0                                                  2                      \n",
       "1                                                  1                      \n",
       "2                                                  1                      \n",
       "3                                                  6                      \n",
       "4                                                  6                      \n",
       "\n",
       "  Quais dispositivos você utiliza para assistir streaming? (selecione uma ou mais)  \\\n",
       "0                                            Celular                                 \n",
       "1                                           Smart TV                                 \n",
       "2  Smart TV;Google Chromecast ou similar;Tablet o...                                 \n",
       "3                                     Notebook ou PC                                 \n",
       "4                                   Smart TV;Celular                                 \n",
       "\n",
       "  Qual preço você julga justo assinar? Qual sua renda familiar mensal?  \\\n",
       "0                    R$15,00 - R$25,00       R$10.000,00 - R$20.000,00   \n",
       "1                    R$15,00 - R$25,00             Mais de R$20.000,00   \n",
       "2                    R$15,00 - R$25,00       R$10.000,00 - R$20.000,00   \n",
       "3                    R$25,00 - R$35,00         R$1.000,00 - R$5.000,00   \n",
       "4                    R$15,00 - R$25,00        R$5.000,00 - R$10.000,00   \n",
       "\n",
       "  O que poderia melhorar nos serviços de streaming que você assina?  \n",
       "0                  Maior catálogo de filmes e séries                 \n",
       "1  Maior catálogo de filmes e séries;Conexão;Inte...                 \n",
       "2                                              Preço                 \n",
       "3            Preço;Maior catálogo de filmes e séries                 \n",
       "4            Preço;Maior catálogo de filmes e séries                 "
      ]
     },
     "execution_count": 20,
     "metadata": {},
     "output_type": "execute_result"
    }
   ],
   "source": [
    "df = pd.read_csv(\"data/Pesquisa - Serviços de Streaming.csv\")\n",
    "df.head() # exibe as 5 primeiras linhas"
   ]
  },
  {
   "cell_type": "markdown",
   "metadata": {},
   "source": [
    "## Tratamento e Limpeza de Dados\n",
    "Antes de analisar os dados da pesquisa, é necessário tratá-los e limpá-los. Nós iremos corrigir alguns erros de gramática, deletar colunas desnecessárias para análise, e procurar melhores formas de acessar as informações importantes."
   ]
  },
  {
   "cell_type": "code",
   "execution_count": 21,
   "metadata": {},
   "outputs": [
    {
     "name": "stdout",
     "output_type": "stream",
     "text": [
      "<class 'pandas.core.frame.DataFrame'>\n",
      "RangeIndex: 213 entries, 0 to 212\n",
      "Data columns (total 15 columns):\n",
      " #   Column                                                                            Non-Null Count  Dtype \n",
      "---  ------                                                                            --------------  ----- \n",
      " 0   Carimbo de data/hora                                                              213 non-null    object\n",
      " 1   Quais serviços você conhece? (selecione uma ou mais)                              213 non-null    object\n",
      " 2   Quais serviços você ou sua família assinam? (selecione uma ou mais)               213 non-null    object\n",
      " 3   Quais serviços você mais gosta? (selecione uma ou mais)                           213 non-null    object\n",
      " 4   Idade                                                                             213 non-null    object\n",
      " 5   Gênero                                                                            213 non-null    object\n",
      " 6   Ocupação                                                                          213 non-null    object\n",
      " 7   Quantas crianças (menor de 10 anos) moram com você?                               213 non-null    object\n",
      " 8   Tipo de conteúdo preferido:                                                       213 non-null    object\n",
      " 9   Durante a semana, quantas horas você assiste de streaming por dia?                213 non-null    int64 \n",
      " 10  De final de semana, quantas horas você assiste de streaming por dia?              213 non-null    int64 \n",
      " 11  Quais dispositivos você utiliza para assistir streaming? (selecione uma ou mais)  213 non-null    object\n",
      " 12  Qual preço você julga justo assinar?                                              213 non-null    object\n",
      " 13  Qual sua renda familiar mensal?                                                   194 non-null    object\n",
      " 14  O que poderia melhorar nos serviços de streaming que você assina?                 213 non-null    object\n",
      "dtypes: int64(2), object(13)\n",
      "memory usage: 25.1+ KB\n"
     ]
    }
   ],
   "source": [
    "df.info()"
   ]
  },
  {
   "cell_type": "code",
   "execution_count": 22,
   "metadata": {},
   "outputs": [],
   "source": [
    "df.drop(columns=[\"Carimbo de data/hora\"], inplace=True)"
   ]
  },
  {
   "cell_type": "markdown",
   "metadata": {},
   "source": [
    "Como obtemos os dados a partir de um questionário do Google Forms, os nomes de cada coluna é a respectiva pergunta (o que são textos muito grandes!). Assim, vamos renomear as colunas para facilitar análise dos dados."
   ]
  },
  {
   "cell_type": "markdown",
   "metadata": {},
   "source": [
    "### Renomeando Colunas"
   ]
  },
  {
   "cell_type": "code",
   "execution_count": 23,
   "metadata": {},
   "outputs": [],
   "source": [
    "df.rename(columns={\n",
    "    \"Quais serviços você conhece? (selecione uma ou mais)\": \"servicos_conhecidos\",\n",
    "    \"Quais serviços você ou sua família assinam? (selecione uma ou mais)\": \"servicos_assinados\",\n",
    "    \"Quais serviços você mais gosta? (selecione uma ou mais)\": \"servicos_gosto\",\n",
    "    \"Idade\": \"idade\",\n",
    "    \"Gênero\": \"genero\",\n",
    "    \"Ocupação\": \"ocupacao\",\n",
    "    \"Quantas crianças (menor de 10 anos) moram com você?\": \"n_criancas\",\n",
    "    \"Tipo de conteúdo preferido:\": \"conteudo_preferido\",\n",
    "    \"Durante a semana, quantas horas você assiste de streaming por dia?\": \"hrs_semana\",\n",
    "    \"De final de semana, quantas horas você assiste de streaming por dia?\": \"hrs_fds\",\n",
    "    \"Quais dispositivos você utiliza para assistir streaming? (selecione uma ou mais)\": \"dispositivos\",\n",
    "    \"Qual preço você julga justo assinar?\": \"preco_justo\",\n",
    "    \"Qual sua renda familiar mensal?\": \"renda\",\n",
    "    \"O que poderia melhorar nos serviços de streaming que você assina?\": \"melhorias\",\n",
    "}, inplace=True)"
   ]
  },
  {
   "cell_type": "code",
   "execution_count": 24,
   "metadata": {},
   "outputs": [
    {
     "data": {
      "text/html": [
       "<div>\n",
       "<style scoped>\n",
       "    .dataframe tbody tr th:only-of-type {\n",
       "        vertical-align: middle;\n",
       "    }\n",
       "\n",
       "    .dataframe tbody tr th {\n",
       "        vertical-align: top;\n",
       "    }\n",
       "\n",
       "    .dataframe thead th {\n",
       "        text-align: right;\n",
       "    }\n",
       "</style>\n",
       "<table border=\"1\" class=\"dataframe\">\n",
       "  <thead>\n",
       "    <tr style=\"text-align: right;\">\n",
       "      <th></th>\n",
       "      <th>servicos_conhecidos</th>\n",
       "      <th>servicos_assinados</th>\n",
       "      <th>servicos_gosto</th>\n",
       "      <th>idade</th>\n",
       "      <th>genero</th>\n",
       "      <th>ocupacao</th>\n",
       "      <th>n_criancas</th>\n",
       "      <th>conteudo_preferido</th>\n",
       "      <th>hrs_semana</th>\n",
       "      <th>hrs_fds</th>\n",
       "      <th>dispositivos</th>\n",
       "      <th>preco_justo</th>\n",
       "      <th>renda</th>\n",
       "      <th>melhorias</th>\n",
       "    </tr>\n",
       "  </thead>\n",
       "  <tbody>\n",
       "    <tr>\n",
       "      <th>0</th>\n",
       "      <td>Netflix;Disney+;Star+;Prime Video;HBO Max;Hulu...</td>\n",
       "      <td>Netflix;Prime Video;HBO Max</td>\n",
       "      <td>Disney+;Prime Video</td>\n",
       "      <td>20</td>\n",
       "      <td>Masculino</td>\n",
       "      <td>Estudando</td>\n",
       "      <td>0</td>\n",
       "      <td>Séries</td>\n",
       "      <td>1</td>\n",
       "      <td>2</td>\n",
       "      <td>Celular</td>\n",
       "      <td>R$15,00 - R$25,00</td>\n",
       "      <td>R$10.000,00 - R$20.000,00</td>\n",
       "      <td>Maior catálogo de filmes e séries</td>\n",
       "    </tr>\n",
       "    <tr>\n",
       "      <th>1</th>\n",
       "      <td>Netflix;Disney+;Prime Video;HBO Max;Hulu;Globo...</td>\n",
       "      <td>Netflix;Prime Video;Crunchyroll</td>\n",
       "      <td>Netflix;Prime Video;HBO Max</td>\n",
       "      <td>20</td>\n",
       "      <td>Masculino</td>\n",
       "      <td>Estudando</td>\n",
       "      <td>0</td>\n",
       "      <td>Séries</td>\n",
       "      <td>0</td>\n",
       "      <td>1</td>\n",
       "      <td>Smart TV</td>\n",
       "      <td>R$15,00 - R$25,00</td>\n",
       "      <td>Mais de R$20.000,00</td>\n",
       "      <td>Maior catálogo de filmes e séries;Conexão;Inte...</td>\n",
       "    </tr>\n",
       "  </tbody>\n",
       "</table>\n",
       "</div>"
      ],
      "text/plain": [
       "                                 servicos_conhecidos  \\\n",
       "0  Netflix;Disney+;Star+;Prime Video;HBO Max;Hulu...   \n",
       "1  Netflix;Disney+;Prime Video;HBO Max;Hulu;Globo...   \n",
       "\n",
       "                 servicos_assinados               servicos_gosto idade  \\\n",
       "0       Netflix;Prime Video;HBO Max          Disney+;Prime Video    20   \n",
       "1  Netflix;Prime Video;Crunchyroll   Netflix;Prime Video;HBO Max    20   \n",
       "\n",
       "      genero   ocupacao n_criancas conteudo_preferido  hrs_semana  hrs_fds  \\\n",
       "0  Masculino  Estudando          0             Séries           1        2   \n",
       "1  Masculino  Estudando          0             Séries           0        1   \n",
       "\n",
       "  dispositivos        preco_justo                      renda  \\\n",
       "0      Celular  R$15,00 - R$25,00  R$10.000,00 - R$20.000,00   \n",
       "1     Smart TV  R$15,00 - R$25,00        Mais de R$20.000,00   \n",
       "\n",
       "                                           melhorias  \n",
       "0                  Maior catálogo de filmes e séries  \n",
       "1  Maior catálogo de filmes e séries;Conexão;Inte...  "
      ]
     },
     "execution_count": 24,
     "metadata": {},
     "output_type": "execute_result"
    }
   ],
   "source": [
    "df.head(2)"
   ]
  },
  {
   "cell_type": "markdown",
   "metadata": {},
   "source": [
    "Bem melhor! Agora vamos tratar individualmente as colunas."
   ]
  },
  {
   "cell_type": "markdown",
   "metadata": {},
   "source": [
    "### Serviços conhecidos, assinados e favoritos\n",
    "Como em nossas perguntas sobre serviços conhecidos, assinados e favoritos poderia selecionar mais de uma alternativa, os dados delas vieram da seguinte forma:"
   ]
  },
  {
   "cell_type": "code",
   "execution_count": 25,
   "metadata": {},
   "outputs": [
    {
     "data": {
      "text/plain": [
       "'Netflix;Disney+;Star+;Prime Video;HBO Max;Hulu;Globoplay'"
      ]
     },
     "execution_count": 25,
     "metadata": {},
     "output_type": "execute_result"
    }
   ],
   "source": [
    "df.servicos_conhecidos[0]"
   ]
  },
  {
   "cell_type": "markdown",
   "metadata": {},
   "source": [
    "Assim, precisamos realizar uma contagem para cada serviço, para então analisar as preferências dos consumidores. Além disso, como havia a opção de digitar outro serviço, ocorreram muitos erros de digitação (por exemplo, digitaram Paramount ao invés de Paramount+). Vamos então tratar esses erros e realizar nossas contagens."
   ]
  },
  {
   "cell_type": "code",
   "execution_count": 34,
   "metadata": {},
   "outputs": [],
   "source": [
    "def conta_coluna_lista(df):\n",
    "    \"\"\"Realiza uma contagem de quantos valores diferentes existem no dataframe\n",
    "\n",
    "    Args:\n",
    "        df (pandas DataFrame): DataFrame a ser analisado\n",
    "    \"\"\"\n",
    "    dic_principal = {}\n",
    "    for col in df.columns:\n",
    "        dic_aux = dict(df.iloc[:, col].value_counts()) # contagem específica de cada coluna\n",
    "        for k, v in dic_aux.items(): # se o valor não existe no dicionário principal, adiciona\n",
    "            if k not in dic_principal: # caso contrário, soma\n",
    "                dic_principal[k] = v\n",
    "            else:\n",
    "                dic_principal[k] += v\n",
    "    dic_principal.pop(\"\") # remove o valor nulo\n",
    "    return dict(sorted(dic_principal.items(), key=lambda x: x[1], reverse=True)) # retorna o dicionário ordenado\n",
    "    \n",
    "\n",
    "def conta_servicos(df, col):\n",
    "    \"\"\"Corrige erros de digitação e retorna a contagem de serviços\n",
    "\n",
    "    Args:\n",
    "        df (pandas DataFrame): DataFrame a ser analisado\n",
    "        col (string): Nome da coluna a ser analisada\n",
    "    \"\"\"\n",
    "    \n",
    "    # na opção \"outro\", alguns digitaram mais de um serviço. Assim, como todos valores estão separados\n",
    "    # por \";\", vamos substituir outros separadores por \";\"\n",
    "    df[col] = df[col].str.replace(\",\", \";\")\n",
    "    df[col] = df[col].str.replace(\" e \", \";\")\n",
    "    df[col] = df[col].str.replace(\" - \", \";\")\n",
    "    \n",
    "    df_servicos = df[col].str.split(\";\", expand=True) # separa os valores da coluna em um DataFrame\n",
    "    \n",
    "    valores_errados = {\n",
    "        \"Amazon\": \"Prime Video\",\n",
    "        \"Discovery +\": \"Discovery+\",\n",
    "        \"crunchyroll\": \"Crunchyroll\",\n",
    "        'Apple TV': 'Apple TV+',\n",
    "        'stremio >:)': None,\n",
    "        'Direct Go': 'DirecTV Go',\n",
    "        'Crunchyroll ': 'Crunchyroll',\n",
    "        'Amazon ': 'Prime Video',\n",
    "        ' Mubi': 'Mubi',\n",
    "        'Tele Cine': 'Telecine',\n",
    "        'AppleTV': 'Apple TV+',\n",
    "        'Amazon Prime': 'Prime Video',\n",
    "        'Directvgo': 'DirecTV Go',\n",
    "        ' Crunchyroll': 'Crunchyroll',\n",
    "        'Apple+': 'Apple TV+',\n",
    "        'Paramount plus ': 'Paramount+',\n",
    "        ' appletv': 'Apple TV+',\n",
    "        ' Crunchroll': 'Crunchyroll',\n",
    "        ' premiere': 'Premiere',\n",
    "        'Amzon Prime': 'Prime Video',\n",
    "        'APPLE TV ': 'Apple TV+',\n",
    "        'Crunchroll': 'Crunchyroll',\n",
    "        'Paramount': 'Paramount+',\n",
    "    }\n",
    "    df_servicos.replace(valores_errados, inplace=True)\n",
    "    \n",
    "    df_servicos.fillna(\"\", inplace=True) # substitui valores nulos por \"\"\n",
    "    df[col] = df_servicos.apply(lambda x: \";\".join(x), axis=1) # junta os valores em uma string separada por \";\"\n",
    "    return conta_coluna_lista(df_servicos) # retorna o dicionário com a contagem de valores"
   ]
  },
  {
   "cell_type": "code",
   "execution_count": 35,
   "metadata": {},
   "outputs": [
    {
     "data": {
      "text/plain": [
       "{'Netflix': 213,\n",
       " 'Disney+': 189,\n",
       " 'Prime Video': 185,\n",
       " 'HBO Max': 185,\n",
       " 'Globoplay': 179,\n",
       " 'Star+': 140,\n",
       " 'Hulu': 57,\n",
       " 'Crunchyroll': 9,\n",
       " 'Apple TV+': 6,\n",
       " 'Telecine': 3,\n",
       " 'Paramount+': 3,\n",
       " 'Discovery+': 2,\n",
       " 'DirecTV Go': 2,\n",
       " 'Gaia': 1,\n",
       " 'Vivo TV': 1,\n",
       " 'Brasil Paralelo': 1,\n",
       " 'Mubi': 1,\n",
       " 'Pluto TV': 1,\n",
       " 'NBA League Pass': 1,\n",
       " 'StarzPlay': 1,\n",
       " 'Fox play': 1,\n",
       " 'Youtube Premium': 1,\n",
       " 'Premiere': 1}"
      ]
     },
     "execution_count": 35,
     "metadata": {},
     "output_type": "execute_result"
    }
   ],
   "source": [
    "count_servicos_conhecidos = conta_servicos(df, \"servicos_conhecidos\")\n",
    "count_servicos_assinados = conta_servicos(df, \"servicos_assinados\")\n",
    "count_servicos_gosto = conta_servicos(df, \"servicos_gosto\")\n",
    "count_servicos_conhecidos"
   ]
  },
  {
   "cell_type": "markdown",
   "metadata": {},
   "source": [
    "### Idade\n",
    "O único problema de `idade` é que alguns digitaram apenas a idade, outros digitaram \"x anos\". Então vamos coletar apenas os dígitos."
   ]
  },
  {
   "cell_type": "code",
   "execution_count": 185,
   "metadata": {},
   "outputs": [],
   "source": [
    "df[\"idade\"] = df.idade.apply(lambda x: x[0:2]).astype(int)"
   ]
  },
  {
   "cell_type": "markdown",
   "metadata": {},
   "source": [
    "### Dispositivos utilizados\n",
    "Aqui separamos também nossa coluna para realizar a contagem de dispositivos utilizados. Também trocamos a opção \"Google Chromecast ou similar\" pelo nome técnico \"Dongle\"."
   ]
  },
  {
   "cell_type": "code",
   "execution_count": 187,
   "metadata": {},
   "outputs": [],
   "source": [
    "df_dispositivos = df.dispositivos.str.split(\";\", expand=True)\n",
    "df_dispositivos.replace({\n",
    "    'Google Chromecast ou similar': 'Dongle'\n",
    "}, inplace=True)\n",
    "count_dispositivos = conta_coluna_lista(df_dispositivos)"
   ]
  },
  {
   "cell_type": "markdown",
   "metadata": {},
   "source": [
    "### Renda"
   ]
  },
  {
   "cell_type": "code",
   "execution_count": 188,
   "metadata": {},
   "outputs": [
    {
     "data": {
      "text/plain": [
       "R$10.000,00 - R$20.000,00    64\n",
       "Mais de R$20.000,00          53\n",
       "R$5.000,00 - R$10.000,00     46\n",
       "R$1.000,00 - R$5.000,00      28\n",
       "Não respondeu                19\n",
       "R$0,00 - R$1.000,00           3\n",
       "Name: renda, dtype: int64"
      ]
     },
     "execution_count": 188,
     "metadata": {},
     "output_type": "execute_result"
    }
   ],
   "source": [
    "df.renda.fillna(\"Não respondeu\", inplace=True) # substituindo valores nulos por \"Não respondeu\"\n",
    "df.renda.value_counts()"
   ]
  },
  {
   "cell_type": "markdown",
   "metadata": {},
   "source": [
    "### Melhorias\n",
    "A coluna `melhorias` possui os mesmos erros que os serviços conhecidos, assinados e preferidos."
   ]
  },
  {
   "cell_type": "code",
   "execution_count": 189,
   "metadata": {},
   "outputs": [],
   "source": [
    "def conta_melhorias(df, col):\n",
    "    \"\"\"Corrige erros de digitação e retorna a contagem de melhorias\n",
    "\n",
    "    Args:\n",
    "        df (pandas DataFrame): DataFrame a ser analisado\n",
    "        col (string): Nome da coluna a ser analisada\n",
    "    \"\"\"\n",
    "    df[col] = df[col].str.replace(\", \", \";\")\n",
    "    df_melhorias = df[col].str.split(\";\", expand=True)\n",
    "    \n",
    "    valores_errados = {\n",
    "        '8': None,\n",
    "        'Filmes adultos': None,\n",
    "        'Esportes Internacionais ao Vivo': None,\n",
    "        'menos demora pro lançamento ': 'Menos demora para o lançamento dos conteúdos',\n",
    "        'Combo ou integração de serviços no mesmo pacote e aplicativo. Mto ruim ficar procurando conteudo e assinando varias plataformas simultaneamente.':'Combo ou integração de serviços no mesmo pacote e aplicativo. Muito ruim ficar procurando conteúdo e assinando várias plataformas simultaneamente',\n",
    "        'Não incluir anuncios (Prime video e hulu)': \"Não incluir anúncios\",\n",
    "    }\n",
    "    df_melhorias.replace(valores_errados, inplace=True)\n",
    "    \n",
    "    df_melhorias.fillna(\"\", inplace=True)\n",
    "    df[col] = df_melhorias.apply(lambda x: \";\".join(x), axis=1)\n",
    "    return conta_coluna_lista(df_melhorias)"
   ]
  },
  {
   "cell_type": "code",
   "execution_count": 190,
   "metadata": {},
   "outputs": [],
   "source": [
    "count_melhorias = conta_melhorias(df, \"melhorias\")"
   ]
  },
  {
   "cell_type": "markdown",
   "metadata": {},
   "source": [
    "Pronto, já podemos começar a Análise Exploratória dos Dados! Vamos antes salvar nossos dados tratados."
   ]
  },
  {
   "cell_type": "code",
   "execution_count": 192,
   "metadata": {},
   "outputs": [],
   "source": [
    "df.to_csv(\"data/dados_pesquisa_tratados.csv\", index=False)"
   ]
  },
  {
   "cell_type": "markdown",
   "metadata": {},
   "source": [
    "## Análise Exploratória dos Dados"
   ]
  }
 ],
 "metadata": {
  "interpreter": {
   "hash": "d372cf159c702d88e76d61195e98430beac9dd3af1b06e023fe96d56fc46f6da"
  },
  "kernelspec": {
   "display_name": "Python 3.9.7 ('ai-env')",
   "language": "python",
   "name": "python3"
  },
  "language_info": {
   "codemirror_mode": {
    "name": "ipython",
    "version": 3
   },
   "file_extension": ".py",
   "mimetype": "text/x-python",
   "name": "python",
   "nbconvert_exporter": "python",
   "pygments_lexer": "ipython3",
   "version": "3.9.7"
  },
  "orig_nbformat": 4
 },
 "nbformat": 4,
 "nbformat_minor": 2
}
