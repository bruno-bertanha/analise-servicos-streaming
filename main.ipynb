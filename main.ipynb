{
 "cells": [
  {
   "cell_type": "markdown",
   "metadata": {},
   "source": [
    "# Análise de Serviços de Streaming\n",
    "Esse notebook tem como objetivo analisar preferências e padrões de consumo de serviços de streaming no estado de São Paulo, Brasil. Foi realizada uma pesquisa com 213 pessoas, disponível em https://forms.gle/X9kQZXN3WRQaw6ry9 . Trata-se de um projeto semestral da disciplina de Estatística, do Instituto Mauá de Tecnologia.\n",
    "\n",
    "## Dependências"
   ]
  },
  {
   "cell_type": "code",
   "execution_count": 370,
   "metadata": {},
   "outputs": [],
   "source": [
    "import pandas as pd\n",
    "import numpy as np\n",
    "import plotly.graph_objects as go\n",
    "import plotly.express as px\n",
    "from plotly.subplots import make_subplots"
   ]
  },
  {
   "cell_type": "markdown",
   "metadata": {},
   "source": [
    "## Lendo dados"
   ]
  },
  {
   "cell_type": "code",
   "execution_count": 371,
   "metadata": {},
   "outputs": [
    {
     "data": {
      "text/html": [
       "<div>\n",
       "<style scoped>\n",
       "    .dataframe tbody tr th:only-of-type {\n",
       "        vertical-align: middle;\n",
       "    }\n",
       "\n",
       "    .dataframe tbody tr th {\n",
       "        vertical-align: top;\n",
       "    }\n",
       "\n",
       "    .dataframe thead th {\n",
       "        text-align: right;\n",
       "    }\n",
       "</style>\n",
       "<table border=\"1\" class=\"dataframe\">\n",
       "  <thead>\n",
       "    <tr style=\"text-align: right;\">\n",
       "      <th></th>\n",
       "      <th>Carimbo de data/hora</th>\n",
       "      <th>Quais serviços você conhece? (selecione uma ou mais)</th>\n",
       "      <th>Quais serviços você ou sua família assinam? (selecione uma ou mais)</th>\n",
       "      <th>Quais serviços você mais gosta? (selecione uma ou mais)</th>\n",
       "      <th>Idade</th>\n",
       "      <th>Gênero</th>\n",
       "      <th>Ocupação</th>\n",
       "      <th>Quantas crianças (menor de 10 anos) moram com você?</th>\n",
       "      <th>Tipo de conteúdo preferido:</th>\n",
       "      <th>Durante a semana, quantas horas você assiste de streaming por dia?</th>\n",
       "      <th>De final de semana, quantas horas você assiste de streaming por dia?</th>\n",
       "      <th>Quais dispositivos você utiliza para assistir streaming? (selecione uma ou mais)</th>\n",
       "      <th>Qual preço você julga justo assinar?</th>\n",
       "      <th>Qual sua renda familiar mensal?</th>\n",
       "      <th>O que poderia melhorar nos serviços de streaming que você assina?</th>\n",
       "    </tr>\n",
       "  </thead>\n",
       "  <tbody>\n",
       "    <tr>\n",
       "      <th>0</th>\n",
       "      <td>2022/05/03 10:21:32 AM GMT-3</td>\n",
       "      <td>Netflix;Disney+;Star+;Prime Video;HBO Max;Hulu...</td>\n",
       "      <td>Netflix;Prime Video;HBO Max</td>\n",
       "      <td>Disney+;Prime Video</td>\n",
       "      <td>20</td>\n",
       "      <td>Masculino</td>\n",
       "      <td>Estudando</td>\n",
       "      <td>0</td>\n",
       "      <td>Séries</td>\n",
       "      <td>1</td>\n",
       "      <td>2</td>\n",
       "      <td>Celular</td>\n",
       "      <td>R$15,00 - R$25,00</td>\n",
       "      <td>R$10.000,00 - R$20.000,00</td>\n",
       "      <td>Maior catálogo de filmes e séries</td>\n",
       "    </tr>\n",
       "    <tr>\n",
       "      <th>1</th>\n",
       "      <td>2022/05/03 10:27:36 AM GMT-3</td>\n",
       "      <td>Netflix;Disney+;Prime Video;HBO Max;Hulu;Globo...</td>\n",
       "      <td>Netflix;Prime Video;Crunchyroll</td>\n",
       "      <td>Netflix;Prime Video;HBO Max</td>\n",
       "      <td>20</td>\n",
       "      <td>Masculino</td>\n",
       "      <td>Estudando</td>\n",
       "      <td>0</td>\n",
       "      <td>Séries</td>\n",
       "      <td>0</td>\n",
       "      <td>1</td>\n",
       "      <td>Smart TV</td>\n",
       "      <td>R$15,00 - R$25,00</td>\n",
       "      <td>Mais de R$20.000,00</td>\n",
       "      <td>Maior catálogo de filmes e séries;Conexão;Inte...</td>\n",
       "    </tr>\n",
       "    <tr>\n",
       "      <th>2</th>\n",
       "      <td>2022/05/03 10:29:52 AM GMT-3</td>\n",
       "      <td>Netflix;Disney+;Star+;Prime Video;HBO Max;Hulu...</td>\n",
       "      <td>Netflix;Disney+;Star+;Prime Video;HBO Max;NBA ...</td>\n",
       "      <td>Netflix;Disney+;Star+;HBO Max</td>\n",
       "      <td>19</td>\n",
       "      <td>Masculino</td>\n",
       "      <td>Estudando</td>\n",
       "      <td>0</td>\n",
       "      <td>Séries</td>\n",
       "      <td>1</td>\n",
       "      <td>1</td>\n",
       "      <td>Smart TV;Google Chromecast ou similar;Tablet o...</td>\n",
       "      <td>R$15,00 - R$25,00</td>\n",
       "      <td>R$10.000,00 - R$20.000,00</td>\n",
       "      <td>Preço</td>\n",
       "    </tr>\n",
       "    <tr>\n",
       "      <th>3</th>\n",
       "      <td>2022/05/03 10:49:56 AM GMT-3</td>\n",
       "      <td>Netflix;Disney+;Star+;Prime Video;HBO Max</td>\n",
       "      <td>Netflix;Disney+;Prime Video;HBO Max</td>\n",
       "      <td>Netflix;Disney+;HBO Max</td>\n",
       "      <td>22</td>\n",
       "      <td>Masculino</td>\n",
       "      <td>Estudando e Trabalhando</td>\n",
       "      <td>0</td>\n",
       "      <td>Séries</td>\n",
       "      <td>5</td>\n",
       "      <td>6</td>\n",
       "      <td>Notebook ou PC</td>\n",
       "      <td>R$25,00 - R$35,00</td>\n",
       "      <td>R$1.000,00 - R$5.000,00</td>\n",
       "      <td>Preço;Maior catálogo de filmes e séries</td>\n",
       "    </tr>\n",
       "    <tr>\n",
       "      <th>4</th>\n",
       "      <td>2022/05/03 10:50:22 AM GMT-3</td>\n",
       "      <td>Netflix;Disney+;Star+;Prime Video;HBO Max;Hulu...</td>\n",
       "      <td>Netflix;Disney+;Star+;Prime Video;HBO Max</td>\n",
       "      <td>Netflix;Disney+;Prime Video;HBO Max;Globoplay</td>\n",
       "      <td>20 anos</td>\n",
       "      <td>Feminino</td>\n",
       "      <td>Estudando e Trabalhando</td>\n",
       "      <td>0</td>\n",
       "      <td>Séries</td>\n",
       "      <td>4</td>\n",
       "      <td>6</td>\n",
       "      <td>Smart TV;Celular</td>\n",
       "      <td>R$15,00 - R$25,00</td>\n",
       "      <td>R$5.000,00 - R$10.000,00</td>\n",
       "      <td>Preço;Maior catálogo de filmes e séries</td>\n",
       "    </tr>\n",
       "  </tbody>\n",
       "</table>\n",
       "</div>"
      ],
      "text/plain": [
       "           Carimbo de data/hora  \\\n",
       "0  2022/05/03 10:21:32 AM GMT-3   \n",
       "1  2022/05/03 10:27:36 AM GMT-3   \n",
       "2  2022/05/03 10:29:52 AM GMT-3   \n",
       "3  2022/05/03 10:49:56 AM GMT-3   \n",
       "4  2022/05/03 10:50:22 AM GMT-3   \n",
       "\n",
       "  Quais serviços você conhece? (selecione uma ou mais)  \\\n",
       "0  Netflix;Disney+;Star+;Prime Video;HBO Max;Hulu...     \n",
       "1  Netflix;Disney+;Prime Video;HBO Max;Hulu;Globo...     \n",
       "2  Netflix;Disney+;Star+;Prime Video;HBO Max;Hulu...     \n",
       "3          Netflix;Disney+;Star+;Prime Video;HBO Max     \n",
       "4  Netflix;Disney+;Star+;Prime Video;HBO Max;Hulu...     \n",
       "\n",
       "  Quais serviços você ou sua família assinam? (selecione uma ou mais)  \\\n",
       "0                        Netflix;Prime Video;HBO Max                    \n",
       "1                   Netflix;Prime Video;Crunchyroll                     \n",
       "2  Netflix;Disney+;Star+;Prime Video;HBO Max;NBA ...                    \n",
       "3                Netflix;Disney+;Prime Video;HBO Max                    \n",
       "4          Netflix;Disney+;Star+;Prime Video;HBO Max                    \n",
       "\n",
       "  Quais serviços você mais gosta? (selecione uma ou mais)    Idade     Gênero  \\\n",
       "0                                Disney+;Prime Video            20  Masculino   \n",
       "1                        Netflix;Prime Video;HBO Max            20  Masculino   \n",
       "2                      Netflix;Disney+;Star+;HBO Max            19  Masculino   \n",
       "3                            Netflix;Disney+;HBO Max            22  Masculino   \n",
       "4      Netflix;Disney+;Prime Video;HBO Max;Globoplay       20 anos   Feminino   \n",
       "\n",
       "                  Ocupação  \\\n",
       "0                Estudando   \n",
       "1                Estudando   \n",
       "2                Estudando   \n",
       "3  Estudando e Trabalhando   \n",
       "4  Estudando e Trabalhando   \n",
       "\n",
       "  Quantas crianças (menor de 10 anos) moram com você?  \\\n",
       "0                                                  0    \n",
       "1                                                  0    \n",
       "2                                                  0    \n",
       "3                                                  0    \n",
       "4                                                  0    \n",
       "\n",
       "  Tipo de conteúdo preferido:  \\\n",
       "0                      Séries   \n",
       "1                      Séries   \n",
       "2                      Séries   \n",
       "3                      Séries   \n",
       "4                      Séries   \n",
       "\n",
       "   Durante a semana, quantas horas você assiste de streaming por dia?  \\\n",
       "0                                                  1                    \n",
       "1                                                  0                    \n",
       "2                                                  1                    \n",
       "3                                                  5                    \n",
       "4                                                  4                    \n",
       "\n",
       "   De final de semana, quantas horas você assiste de streaming por dia?  \\\n",
       "0                                                  2                      \n",
       "1                                                  1                      \n",
       "2                                                  1                      \n",
       "3                                                  6                      \n",
       "4                                                  6                      \n",
       "\n",
       "  Quais dispositivos você utiliza para assistir streaming? (selecione uma ou mais)  \\\n",
       "0                                            Celular                                 \n",
       "1                                           Smart TV                                 \n",
       "2  Smart TV;Google Chromecast ou similar;Tablet o...                                 \n",
       "3                                     Notebook ou PC                                 \n",
       "4                                   Smart TV;Celular                                 \n",
       "\n",
       "  Qual preço você julga justo assinar? Qual sua renda familiar mensal?  \\\n",
       "0                    R$15,00 - R$25,00       R$10.000,00 - R$20.000,00   \n",
       "1                    R$15,00 - R$25,00             Mais de R$20.000,00   \n",
       "2                    R$15,00 - R$25,00       R$10.000,00 - R$20.000,00   \n",
       "3                    R$25,00 - R$35,00         R$1.000,00 - R$5.000,00   \n",
       "4                    R$15,00 - R$25,00        R$5.000,00 - R$10.000,00   \n",
       "\n",
       "  O que poderia melhorar nos serviços de streaming que você assina?  \n",
       "0                  Maior catálogo de filmes e séries                 \n",
       "1  Maior catálogo de filmes e séries;Conexão;Inte...                 \n",
       "2                                              Preço                 \n",
       "3            Preço;Maior catálogo de filmes e séries                 \n",
       "4            Preço;Maior catálogo de filmes e séries                 "
      ]
     },
     "execution_count": 371,
     "metadata": {},
     "output_type": "execute_result"
    }
   ],
   "source": [
    "df = pd.read_csv(\"data/Pesquisa - Serviços de Streaming.csv\")\n",
    "df.head() # exibe as 5 primeiras linhas"
   ]
  },
  {
   "cell_type": "markdown",
   "metadata": {},
   "source": [
    "## Tratamento e Limpeza de Dados\n",
    "Antes de analisar os dados da pesquisa, é necessário tratá-los e limpá-los. Nós iremos corrigir alguns erros de digitação, deletar colunas desnecessárias para análise, e procurar melhores formas de acessar as informações importantes."
   ]
  },
  {
   "cell_type": "code",
   "execution_count": 372,
   "metadata": {},
   "outputs": [
    {
     "name": "stdout",
     "output_type": "stream",
     "text": [
      "<class 'pandas.core.frame.DataFrame'>\n",
      "RangeIndex: 213 entries, 0 to 212\n",
      "Data columns (total 15 columns):\n",
      " #   Column                                                                            Non-Null Count  Dtype \n",
      "---  ------                                                                            --------------  ----- \n",
      " 0   Carimbo de data/hora                                                              213 non-null    object\n",
      " 1   Quais serviços você conhece? (selecione uma ou mais)                              213 non-null    object\n",
      " 2   Quais serviços você ou sua família assinam? (selecione uma ou mais)               213 non-null    object\n",
      " 3   Quais serviços você mais gosta? (selecione uma ou mais)                           213 non-null    object\n",
      " 4   Idade                                                                             213 non-null    object\n",
      " 5   Gênero                                                                            213 non-null    object\n",
      " 6   Ocupação                                                                          213 non-null    object\n",
      " 7   Quantas crianças (menor de 10 anos) moram com você?                               213 non-null    object\n",
      " 8   Tipo de conteúdo preferido:                                                       213 non-null    object\n",
      " 9   Durante a semana, quantas horas você assiste de streaming por dia?                213 non-null    int64 \n",
      " 10  De final de semana, quantas horas você assiste de streaming por dia?              213 non-null    int64 \n",
      " 11  Quais dispositivos você utiliza para assistir streaming? (selecione uma ou mais)  213 non-null    object\n",
      " 12  Qual preço você julga justo assinar?                                              213 non-null    object\n",
      " 13  Qual sua renda familiar mensal?                                                   194 non-null    object\n",
      " 14  O que poderia melhorar nos serviços de streaming que você assina?                 213 non-null    object\n",
      "dtypes: int64(2), object(13)\n",
      "memory usage: 25.1+ KB\n"
     ]
    }
   ],
   "source": [
    "df.info()"
   ]
  },
  {
   "cell_type": "code",
   "execution_count": 373,
   "metadata": {},
   "outputs": [],
   "source": [
    "df.drop(columns=[\"Carimbo de data/hora\"], inplace=True)"
   ]
  },
  {
   "cell_type": "markdown",
   "metadata": {},
   "source": [
    "Como obtemos os dados a partir de um questionário do Google Forms, os nomes de cada coluna é a respectiva pergunta (o que são textos muito grandes!). Assim, vamos renomear as colunas para facilitar análise dos dados."
   ]
  },
  {
   "cell_type": "markdown",
   "metadata": {},
   "source": [
    "### Renomeando Colunas"
   ]
  },
  {
   "cell_type": "code",
   "execution_count": 374,
   "metadata": {},
   "outputs": [],
   "source": [
    "df.rename(columns={\n",
    "    \"Quais serviços você conhece? (selecione uma ou mais)\": \"servicos_conhecidos\",\n",
    "    \"Quais serviços você ou sua família assinam? (selecione uma ou mais)\": \"servicos_assinados\",\n",
    "    \"Quais serviços você mais gosta? (selecione uma ou mais)\": \"servicos_gosto\",\n",
    "    \"Idade\": \"idade\",\n",
    "    \"Gênero\": \"genero\",\n",
    "    \"Ocupação\": \"ocupacao\",\n",
    "    \"Quantas crianças (menor de 10 anos) moram com você?\": \"n_criancas\",\n",
    "    \"Tipo de conteúdo preferido:\": \"conteudo_preferido\",\n",
    "    \"Durante a semana, quantas horas você assiste de streaming por dia?\": \"hrs_semana\",\n",
    "    \"De final de semana, quantas horas você assiste de streaming por dia?\": \"hrs_fds\",\n",
    "    \"Quais dispositivos você utiliza para assistir streaming? (selecione uma ou mais)\": \"dispositivos\",\n",
    "    \"Qual preço você julga justo assinar?\": \"preco_justo\",\n",
    "    \"Qual sua renda familiar mensal?\": \"renda\",\n",
    "    \"O que poderia melhorar nos serviços de streaming que você assina?\": \"melhorias\",\n",
    "}, inplace=True)"
   ]
  },
  {
   "cell_type": "code",
   "execution_count": 375,
   "metadata": {},
   "outputs": [
    {
     "data": {
      "text/html": [
       "<div>\n",
       "<style scoped>\n",
       "    .dataframe tbody tr th:only-of-type {\n",
       "        vertical-align: middle;\n",
       "    }\n",
       "\n",
       "    .dataframe tbody tr th {\n",
       "        vertical-align: top;\n",
       "    }\n",
       "\n",
       "    .dataframe thead th {\n",
       "        text-align: right;\n",
       "    }\n",
       "</style>\n",
       "<table border=\"1\" class=\"dataframe\">\n",
       "  <thead>\n",
       "    <tr style=\"text-align: right;\">\n",
       "      <th></th>\n",
       "      <th>servicos_conhecidos</th>\n",
       "      <th>servicos_assinados</th>\n",
       "      <th>servicos_gosto</th>\n",
       "      <th>idade</th>\n",
       "      <th>genero</th>\n",
       "      <th>ocupacao</th>\n",
       "      <th>n_criancas</th>\n",
       "      <th>conteudo_preferido</th>\n",
       "      <th>hrs_semana</th>\n",
       "      <th>hrs_fds</th>\n",
       "      <th>dispositivos</th>\n",
       "      <th>preco_justo</th>\n",
       "      <th>renda</th>\n",
       "      <th>melhorias</th>\n",
       "    </tr>\n",
       "  </thead>\n",
       "  <tbody>\n",
       "    <tr>\n",
       "      <th>0</th>\n",
       "      <td>Netflix;Disney+;Star+;Prime Video;HBO Max;Hulu...</td>\n",
       "      <td>Netflix;Prime Video;HBO Max</td>\n",
       "      <td>Disney+;Prime Video</td>\n",
       "      <td>20</td>\n",
       "      <td>Masculino</td>\n",
       "      <td>Estudando</td>\n",
       "      <td>0</td>\n",
       "      <td>Séries</td>\n",
       "      <td>1</td>\n",
       "      <td>2</td>\n",
       "      <td>Celular</td>\n",
       "      <td>R$15,00 - R$25,00</td>\n",
       "      <td>R$10.000,00 - R$20.000,00</td>\n",
       "      <td>Maior catálogo de filmes e séries</td>\n",
       "    </tr>\n",
       "    <tr>\n",
       "      <th>1</th>\n",
       "      <td>Netflix;Disney+;Prime Video;HBO Max;Hulu;Globo...</td>\n",
       "      <td>Netflix;Prime Video;Crunchyroll</td>\n",
       "      <td>Netflix;Prime Video;HBO Max</td>\n",
       "      <td>20</td>\n",
       "      <td>Masculino</td>\n",
       "      <td>Estudando</td>\n",
       "      <td>0</td>\n",
       "      <td>Séries</td>\n",
       "      <td>0</td>\n",
       "      <td>1</td>\n",
       "      <td>Smart TV</td>\n",
       "      <td>R$15,00 - R$25,00</td>\n",
       "      <td>Mais de R$20.000,00</td>\n",
       "      <td>Maior catálogo de filmes e séries;Conexão;Inte...</td>\n",
       "    </tr>\n",
       "  </tbody>\n",
       "</table>\n",
       "</div>"
      ],
      "text/plain": [
       "                                 servicos_conhecidos  \\\n",
       "0  Netflix;Disney+;Star+;Prime Video;HBO Max;Hulu...   \n",
       "1  Netflix;Disney+;Prime Video;HBO Max;Hulu;Globo...   \n",
       "\n",
       "                 servicos_assinados               servicos_gosto idade  \\\n",
       "0       Netflix;Prime Video;HBO Max          Disney+;Prime Video    20   \n",
       "1  Netflix;Prime Video;Crunchyroll   Netflix;Prime Video;HBO Max    20   \n",
       "\n",
       "      genero   ocupacao n_criancas conteudo_preferido  hrs_semana  hrs_fds  \\\n",
       "0  Masculino  Estudando          0             Séries           1        2   \n",
       "1  Masculino  Estudando          0             Séries           0        1   \n",
       "\n",
       "  dispositivos        preco_justo                      renda  \\\n",
       "0      Celular  R$15,00 - R$25,00  R$10.000,00 - R$20.000,00   \n",
       "1     Smart TV  R$15,00 - R$25,00        Mais de R$20.000,00   \n",
       "\n",
       "                                           melhorias  \n",
       "0                  Maior catálogo de filmes e séries  \n",
       "1  Maior catálogo de filmes e séries;Conexão;Inte...  "
      ]
     },
     "execution_count": 375,
     "metadata": {},
     "output_type": "execute_result"
    }
   ],
   "source": [
    "df.head(2)"
   ]
  },
  {
   "cell_type": "markdown",
   "metadata": {},
   "source": [
    "Bem melhor! Agora vamos tratar individualmente as colunas."
   ]
  },
  {
   "cell_type": "markdown",
   "metadata": {},
   "source": [
    "### Serviços conhecidos, assinados e favoritos\n",
    "Como em nossas perguntas sobre serviços conhecidos, assinados e favoritos poderia selecionar mais de uma alternativa, os dados delas vieram da seguinte forma:"
   ]
  },
  {
   "cell_type": "code",
   "execution_count": 376,
   "metadata": {},
   "outputs": [
    {
     "data": {
      "text/plain": [
       "'Netflix;Disney+;Star+;Prime Video;HBO Max;Hulu;Globoplay'"
      ]
     },
     "execution_count": 376,
     "metadata": {},
     "output_type": "execute_result"
    }
   ],
   "source": [
    "df.servicos_conhecidos[0]"
   ]
  },
  {
   "cell_type": "markdown",
   "metadata": {},
   "source": [
    "Assim, precisamos realizar uma contagem para cada serviço, para então analisar as preferências dos consumidores. Além disso, como havia a opção de digitar outro serviço, ocorreram muitos erros de digitação (por exemplo, digitaram Paramount ao invés de Paramount+). Vamos então tratar esses erros e realizar nossas contagens."
   ]
  },
  {
   "cell_type": "code",
   "execution_count": 377,
   "metadata": {},
   "outputs": [],
   "source": [
    "def conta_coluna_lista(df):\n",
    "    \"\"\"Realiza uma contagem de quantos valores diferentes existem no dataframe\n",
    "\n",
    "    Args:\n",
    "        df (pandas DataFrame): DataFrame a ser analisado\n",
    "    \"\"\"\n",
    "    dic_principal = {}\n",
    "    for col in df.columns:\n",
    "        dic_aux = dict(df.iloc[:, col].value_counts()) # contagem específica de cada coluna\n",
    "        for k, v in dic_aux.items(): # se o valor não existe no dicionário principal, adiciona\n",
    "            if k not in dic_principal: # caso contrário, soma\n",
    "                dic_principal[k] = v\n",
    "            else:\n",
    "                dic_principal[k] += v\n",
    "    try:\n",
    "        dic_principal.pop(\"\") # remove o valor nulo\n",
    "    except KeyError:\n",
    "        pass\n",
    "    return dict(sorted(dic_principal.items(), key=lambda x: x[1], reverse=False)) # retorna o dicionário ordenado\n",
    "    \n",
    "\n",
    "def conta_servicos(df, col):\n",
    "    \"\"\"Corrige erros de digitação e retorna a contagem de serviços\n",
    "\n",
    "    Args:\n",
    "        df (pandas DataFrame): DataFrame a ser analisado\n",
    "        col (string): Nome da coluna a ser analisada\n",
    "    \"\"\"\n",
    "    \n",
    "    # na opção \"outro\", alguns digitaram mais de um serviço. Assim, como todos valores estão separados\n",
    "    # por \";\", vamos substituir outros separadores por \";\"\n",
    "    df[col] = df[col].str.replace(\",\", \";\")\n",
    "    df[col] = df[col].str.replace(\" e \", \";\")\n",
    "    df[col] = df[col].str.replace(\" - \", \";\")\n",
    "    \n",
    "    df_servicos = df[col].str.split(\";\", expand=True) # separa os valores da coluna em um DataFrame\n",
    "    \n",
    "    valores_errados = {\n",
    "        \"Amazon\": \"Prime Video\",\n",
    "        \"Discovery +\": \"Discovery+\",\n",
    "        \"crunchyroll\": \"Crunchyroll\",\n",
    "        'Apple TV': 'Apple TV+',\n",
    "        'stremio >:)': None,\n",
    "        'Direct Go': 'DirecTV Go',\n",
    "        'Crunchyroll ': 'Crunchyroll',\n",
    "        'Amazon ': 'Prime Video',\n",
    "        ' Mubi': 'Mubi',\n",
    "        'Tele Cine': 'Telecine',\n",
    "        'AppleTV': 'Apple TV+',\n",
    "        'Amazon Prime': 'Prime Video',\n",
    "        'Directvgo': 'DirecTV Go',\n",
    "        ' Crunchyroll': 'Crunchyroll',\n",
    "        'Apple+': 'Apple TV+',\n",
    "        'Paramount plus ': 'Paramount+',\n",
    "        ' appletv': 'Apple TV+',\n",
    "        ' Crunchroll': 'Crunchyroll',\n",
    "        ' premiere': 'Premiere',\n",
    "        'Amzon Prime': 'Prime Video',\n",
    "        'APPLE TV ': 'Apple TV+',\n",
    "        'Crunchroll': 'Crunchyroll',\n",
    "        'Paramount': 'Paramount+',\n",
    "    }\n",
    "    df_servicos.replace(valores_errados, inplace=True)\n",
    "    \n",
    "    df_servicos.fillna(\"\", inplace=True) # substitui valores nulos por \"\"\n",
    "    df[col] = df_servicos.apply(lambda x: \";\".join(x).rstrip(\";\"), axis=1) # junta os valores em uma string separada por \";\"\n",
    "    return conta_coluna_lista(df_servicos) # retorna o dicionário com a contagem de valores"
   ]
  },
  {
   "cell_type": "code",
   "execution_count": 378,
   "metadata": {},
   "outputs": [],
   "source": [
    "count_servicos_conhecidos = conta_servicos(df, \"servicos_conhecidos\")\n",
    "count_servicos_assinados = conta_servicos(df, \"servicos_assinados\")\n",
    "count_servicos_gosto = conta_servicos(df, \"servicos_gosto\")"
   ]
  },
  {
   "cell_type": "markdown",
   "metadata": {},
   "source": [
    "### Idade\n",
    "O único problema de `idade` é que alguns digitaram apenas a idade, outros digitaram \"x anos\". Então vamos coletar apenas os dígitos."
   ]
  },
  {
   "cell_type": "code",
   "execution_count": 379,
   "metadata": {},
   "outputs": [],
   "source": [
    "df[\"idade\"] = df.idade.apply(lambda x: x[0:2]).astype(int)"
   ]
  },
  {
   "cell_type": "markdown",
   "metadata": {},
   "source": [
    "### Dispositivos utilizados\n",
    "Aqui separamos também nossa coluna para realizar a contagem de dispositivos utilizados. Também trocamos a opção \"Google Chromecast ou similar\" pelo nome técnico \"Dongle\"."
   ]
  },
  {
   "cell_type": "code",
   "execution_count": 380,
   "metadata": {},
   "outputs": [],
   "source": [
    "df_dispositivos = df.dispositivos.str.split(\";\", expand=True)\n",
    "df_dispositivos.replace({\n",
    "    'Google Chromecast ou similar': 'Dongle'\n",
    "}, inplace=True)\n",
    "count_dispositivos = conta_coluna_lista(df_dispositivos)"
   ]
  },
  {
   "cell_type": "markdown",
   "metadata": {},
   "source": [
    "### Renda"
   ]
  },
  {
   "cell_type": "code",
   "execution_count": 381,
   "metadata": {},
   "outputs": [
    {
     "data": {
      "text/plain": [
       "R$10.000,00 - R$20.000,00    64\n",
       "Mais de R$20.000,00          53\n",
       "R$5.000,00 - R$10.000,00     46\n",
       "R$1.000,00 - R$5.000,00      28\n",
       "Não respondeu                19\n",
       "R$0,00 - R$1.000,00           3\n",
       "Name: renda, dtype: int64"
      ]
     },
     "execution_count": 381,
     "metadata": {},
     "output_type": "execute_result"
    }
   ],
   "source": [
    "df.renda.fillna(\"Não respondeu\", inplace=True) # substituindo valores nulos por \"Não respondeu\"\n",
    "df.renda.value_counts()"
   ]
  },
  {
   "cell_type": "markdown",
   "metadata": {},
   "source": [
    "### Melhorias\n",
    "A coluna `melhorias` possui os mesmos erros que os serviços conhecidos, assinados e preferidos."
   ]
  },
  {
   "cell_type": "code",
   "execution_count": 382,
   "metadata": {},
   "outputs": [],
   "source": [
    "def conta_melhorias(df, col):\n",
    "    \"\"\"Corrige erros de digitação e retorna a contagem de melhorias\n",
    "\n",
    "    Args:\n",
    "        df (pandas DataFrame): DataFrame a ser analisado\n",
    "        col (string): Nome da coluna a ser analisada\n",
    "    \"\"\"\n",
    "    df[col] = df[col].str.replace(\", \", \";\")\n",
    "    df_melhorias = df[col].str.split(\";\", expand=True)\n",
    "    \n",
    "    valores_errados = {\n",
    "        '8': None,\n",
    "        'Filmes adultos': None,\n",
    "        'Esportes Internacionais ao Vivo': None,\n",
    "        'menos demora pro lançamento ': 'Menos demora para o lançamento dos conteúdos',\n",
    "        'Combo ou integração de serviços no mesmo pacote e aplicativo. Mto ruim ficar procurando conteudo e assinando varias plataformas simultaneamente.':'Combo ou integração de serviços no mesmo pacote e aplicativo. Muito ruim ficar procurando conteúdo e assinando várias plataformas simultaneamente',\n",
    "        'Não incluir anuncios (Prime video e hulu)': \"Não incluir anúncios\",\n",
    "    }\n",
    "    df_melhorias.replace(valores_errados, inplace=True)\n",
    "    \n",
    "    df_melhorias.fillna(\"\", inplace=True)\n",
    "    df[col] = df_melhorias.apply(lambda x: \";\".join(x), axis=1)\n",
    "    return conta_coluna_lista(df_melhorias)"
   ]
  },
  {
   "cell_type": "code",
   "execution_count": 383,
   "metadata": {},
   "outputs": [],
   "source": [
    "count_melhorias = conta_melhorias(df, \"melhorias\")"
   ]
  },
  {
   "cell_type": "markdown",
   "metadata": {},
   "source": [
    "Pronto, já podemos começar a Análise Exploratória dos Dados! Vamos antes salvar nossos dados tratados."
   ]
  },
  {
   "cell_type": "code",
   "execution_count": 384,
   "metadata": {},
   "outputs": [],
   "source": [
    "df.to_csv(\"data/dados_pesquisa_tratados.csv\", index=False)"
   ]
  },
  {
   "cell_type": "markdown",
   "metadata": {},
   "source": [
    "## Análise Exploratória dos Dados\n",
    "### Informações dos entrevistados"
   ]
  },
  {
   "cell_type": "code",
   "execution_count": 385,
   "metadata": {},
   "outputs": [
    {
     "data": {
      "text/plain": [
       "Masculino    0.723005\n",
       "Feminino     0.267606\n",
       "Outro        0.009390\n",
       "Name: genero, dtype: float64"
      ]
     },
     "execution_count": 385,
     "metadata": {},
     "output_type": "execute_result"
    }
   ],
   "source": [
    "df_genero = df.genero.value_counts(normalize=True)\n",
    "df_genero"
   ]
  },
  {
   "cell_type": "code",
   "execution_count": 386,
   "metadata": {},
   "outputs": [
    {
     "data": {
      "application/vnd.plotly.v1+json": {
       "config": {
        "plotlyServerURL": "https://plot.ly"
       },
       "data": [
        {
         "boxmean": true,
         "name": "",
         "type": "box",
         "y": [
          20,
          20,
          19,
          22,
          20,
          21,
          20,
          20,
          19,
          20,
          45,
          21,
          19,
          21,
          47,
          20,
          20,
          20,
          25,
          18,
          20,
          21,
          57,
          20,
          20,
          40,
          18,
          30,
          19,
          22,
          20,
          53,
          53,
          45,
          16,
          21,
          19,
          17,
          22,
          22,
          19,
          19,
          19,
          44,
          21,
          18,
          53,
          18,
          49,
          19,
          21,
          19,
          20,
          20,
          20,
          20,
          51,
          21,
          20,
          53,
          58,
          21,
          19,
          19,
          18,
          20,
          19,
          19,
          41,
          33,
          48,
          19,
          29,
          21,
          20,
          13,
          21,
          21,
          20,
          19,
          22,
          49,
          20,
          19,
          40,
          18,
          19,
          20,
          40,
          41,
          58,
          18,
          64,
          22,
          15,
          27,
          15,
          18,
          52,
          43,
          49,
          47,
          17,
          52,
          42,
          20,
          57,
          38,
          40,
          59,
          21,
          21,
          21,
          22,
          42,
          54,
          27,
          19,
          20,
          47,
          62,
          13,
          31,
          46,
          20,
          46,
          51,
          19,
          19,
          34,
          20,
          18,
          19,
          19,
          20,
          18,
          23,
          20,
          19,
          20,
          51,
          50,
          24,
          13,
          46,
          21,
          21,
          20,
          61,
          19,
          36,
          34,
          21,
          48,
          55,
          54,
          61,
          57,
          67,
          41,
          53,
          55,
          66,
          67,
          43,
          20,
          20,
          71,
          71,
          56,
          56,
          52,
          54,
          55,
          56,
          19,
          55,
          55,
          22,
          43,
          55,
          58,
          53,
          54,
          67,
          41,
          61,
          62,
          21,
          71,
          55,
          20,
          57,
          55,
          20,
          76,
          21,
          59,
          58,
          19,
          69,
          54,
          40,
          22,
          20,
          20,
          43,
          21,
          76,
          44,
          19,
          21,
          20
         ]
        }
       ],
       "layout": {
        "height": 500,
        "template": {
         "data": {
          "bar": [
           {
            "error_x": {
             "color": "#2a3f5f"
            },
            "error_y": {
             "color": "#2a3f5f"
            },
            "marker": {
             "line": {
              "color": "white",
              "width": 0.5
             },
             "pattern": {
              "fillmode": "overlay",
              "size": 10,
              "solidity": 0.2
             }
            },
            "type": "bar"
           }
          ],
          "barpolar": [
           {
            "marker": {
             "line": {
              "color": "white",
              "width": 0.5
             },
             "pattern": {
              "fillmode": "overlay",
              "size": 10,
              "solidity": 0.2
             }
            },
            "type": "barpolar"
           }
          ],
          "carpet": [
           {
            "aaxis": {
             "endlinecolor": "#2a3f5f",
             "gridcolor": "#C8D4E3",
             "linecolor": "#C8D4E3",
             "minorgridcolor": "#C8D4E3",
             "startlinecolor": "#2a3f5f"
            },
            "baxis": {
             "endlinecolor": "#2a3f5f",
             "gridcolor": "#C8D4E3",
             "linecolor": "#C8D4E3",
             "minorgridcolor": "#C8D4E3",
             "startlinecolor": "#2a3f5f"
            },
            "type": "carpet"
           }
          ],
          "choropleth": [
           {
            "colorbar": {
             "outlinewidth": 0,
             "ticks": ""
            },
            "type": "choropleth"
           }
          ],
          "contour": [
           {
            "colorbar": {
             "outlinewidth": 0,
             "ticks": ""
            },
            "colorscale": [
             [
              0,
              "#0d0887"
             ],
             [
              0.1111111111111111,
              "#46039f"
             ],
             [
              0.2222222222222222,
              "#7201a8"
             ],
             [
              0.3333333333333333,
              "#9c179e"
             ],
             [
              0.4444444444444444,
              "#bd3786"
             ],
             [
              0.5555555555555556,
              "#d8576b"
             ],
             [
              0.6666666666666666,
              "#ed7953"
             ],
             [
              0.7777777777777778,
              "#fb9f3a"
             ],
             [
              0.8888888888888888,
              "#fdca26"
             ],
             [
              1,
              "#f0f921"
             ]
            ],
            "type": "contour"
           }
          ],
          "contourcarpet": [
           {
            "colorbar": {
             "outlinewidth": 0,
             "ticks": ""
            },
            "type": "contourcarpet"
           }
          ],
          "heatmap": [
           {
            "colorbar": {
             "outlinewidth": 0,
             "ticks": ""
            },
            "colorscale": [
             [
              0,
              "#0d0887"
             ],
             [
              0.1111111111111111,
              "#46039f"
             ],
             [
              0.2222222222222222,
              "#7201a8"
             ],
             [
              0.3333333333333333,
              "#9c179e"
             ],
             [
              0.4444444444444444,
              "#bd3786"
             ],
             [
              0.5555555555555556,
              "#d8576b"
             ],
             [
              0.6666666666666666,
              "#ed7953"
             ],
             [
              0.7777777777777778,
              "#fb9f3a"
             ],
             [
              0.8888888888888888,
              "#fdca26"
             ],
             [
              1,
              "#f0f921"
             ]
            ],
            "type": "heatmap"
           }
          ],
          "heatmapgl": [
           {
            "colorbar": {
             "outlinewidth": 0,
             "ticks": ""
            },
            "colorscale": [
             [
              0,
              "#0d0887"
             ],
             [
              0.1111111111111111,
              "#46039f"
             ],
             [
              0.2222222222222222,
              "#7201a8"
             ],
             [
              0.3333333333333333,
              "#9c179e"
             ],
             [
              0.4444444444444444,
              "#bd3786"
             ],
             [
              0.5555555555555556,
              "#d8576b"
             ],
             [
              0.6666666666666666,
              "#ed7953"
             ],
             [
              0.7777777777777778,
              "#fb9f3a"
             ],
             [
              0.8888888888888888,
              "#fdca26"
             ],
             [
              1,
              "#f0f921"
             ]
            ],
            "type": "heatmapgl"
           }
          ],
          "histogram": [
           {
            "marker": {
             "pattern": {
              "fillmode": "overlay",
              "size": 10,
              "solidity": 0.2
             }
            },
            "type": "histogram"
           }
          ],
          "histogram2d": [
           {
            "colorbar": {
             "outlinewidth": 0,
             "ticks": ""
            },
            "colorscale": [
             [
              0,
              "#0d0887"
             ],
             [
              0.1111111111111111,
              "#46039f"
             ],
             [
              0.2222222222222222,
              "#7201a8"
             ],
             [
              0.3333333333333333,
              "#9c179e"
             ],
             [
              0.4444444444444444,
              "#bd3786"
             ],
             [
              0.5555555555555556,
              "#d8576b"
             ],
             [
              0.6666666666666666,
              "#ed7953"
             ],
             [
              0.7777777777777778,
              "#fb9f3a"
             ],
             [
              0.8888888888888888,
              "#fdca26"
             ],
             [
              1,
              "#f0f921"
             ]
            ],
            "type": "histogram2d"
           }
          ],
          "histogram2dcontour": [
           {
            "colorbar": {
             "outlinewidth": 0,
             "ticks": ""
            },
            "colorscale": [
             [
              0,
              "#0d0887"
             ],
             [
              0.1111111111111111,
              "#46039f"
             ],
             [
              0.2222222222222222,
              "#7201a8"
             ],
             [
              0.3333333333333333,
              "#9c179e"
             ],
             [
              0.4444444444444444,
              "#bd3786"
             ],
             [
              0.5555555555555556,
              "#d8576b"
             ],
             [
              0.6666666666666666,
              "#ed7953"
             ],
             [
              0.7777777777777778,
              "#fb9f3a"
             ],
             [
              0.8888888888888888,
              "#fdca26"
             ],
             [
              1,
              "#f0f921"
             ]
            ],
            "type": "histogram2dcontour"
           }
          ],
          "mesh3d": [
           {
            "colorbar": {
             "outlinewidth": 0,
             "ticks": ""
            },
            "type": "mesh3d"
           }
          ],
          "parcoords": [
           {
            "line": {
             "colorbar": {
              "outlinewidth": 0,
              "ticks": ""
             }
            },
            "type": "parcoords"
           }
          ],
          "pie": [
           {
            "automargin": true,
            "type": "pie"
           }
          ],
          "scatter": [
           {
            "marker": {
             "colorbar": {
              "outlinewidth": 0,
              "ticks": ""
             }
            },
            "type": "scatter"
           }
          ],
          "scatter3d": [
           {
            "line": {
             "colorbar": {
              "outlinewidth": 0,
              "ticks": ""
             }
            },
            "marker": {
             "colorbar": {
              "outlinewidth": 0,
              "ticks": ""
             }
            },
            "type": "scatter3d"
           }
          ],
          "scattercarpet": [
           {
            "marker": {
             "colorbar": {
              "outlinewidth": 0,
              "ticks": ""
             }
            },
            "type": "scattercarpet"
           }
          ],
          "scattergeo": [
           {
            "marker": {
             "colorbar": {
              "outlinewidth": 0,
              "ticks": ""
             }
            },
            "type": "scattergeo"
           }
          ],
          "scattergl": [
           {
            "marker": {
             "colorbar": {
              "outlinewidth": 0,
              "ticks": ""
             }
            },
            "type": "scattergl"
           }
          ],
          "scattermapbox": [
           {
            "marker": {
             "colorbar": {
              "outlinewidth": 0,
              "ticks": ""
             }
            },
            "type": "scattermapbox"
           }
          ],
          "scatterpolar": [
           {
            "marker": {
             "colorbar": {
              "outlinewidth": 0,
              "ticks": ""
             }
            },
            "type": "scatterpolar"
           }
          ],
          "scatterpolargl": [
           {
            "marker": {
             "colorbar": {
              "outlinewidth": 0,
              "ticks": ""
             }
            },
            "type": "scatterpolargl"
           }
          ],
          "scatterternary": [
           {
            "marker": {
             "colorbar": {
              "outlinewidth": 0,
              "ticks": ""
             }
            },
            "type": "scatterternary"
           }
          ],
          "surface": [
           {
            "colorbar": {
             "outlinewidth": 0,
             "ticks": ""
            },
            "colorscale": [
             [
              0,
              "#0d0887"
             ],
             [
              0.1111111111111111,
              "#46039f"
             ],
             [
              0.2222222222222222,
              "#7201a8"
             ],
             [
              0.3333333333333333,
              "#9c179e"
             ],
             [
              0.4444444444444444,
              "#bd3786"
             ],
             [
              0.5555555555555556,
              "#d8576b"
             ],
             [
              0.6666666666666666,
              "#ed7953"
             ],
             [
              0.7777777777777778,
              "#fb9f3a"
             ],
             [
              0.8888888888888888,
              "#fdca26"
             ],
             [
              1,
              "#f0f921"
             ]
            ],
            "type": "surface"
           }
          ],
          "table": [
           {
            "cells": {
             "fill": {
              "color": "#EBF0F8"
             },
             "line": {
              "color": "white"
             }
            },
            "header": {
             "fill": {
              "color": "#C8D4E3"
             },
             "line": {
              "color": "white"
             }
            },
            "type": "table"
           }
          ]
         },
         "layout": {
          "annotationdefaults": {
           "arrowcolor": "#2a3f5f",
           "arrowhead": 0,
           "arrowwidth": 1
          },
          "autotypenumbers": "strict",
          "coloraxis": {
           "colorbar": {
            "outlinewidth": 0,
            "ticks": ""
           }
          },
          "colorscale": {
           "diverging": [
            [
             0,
             "#8e0152"
            ],
            [
             0.1,
             "#c51b7d"
            ],
            [
             0.2,
             "#de77ae"
            ],
            [
             0.3,
             "#f1b6da"
            ],
            [
             0.4,
             "#fde0ef"
            ],
            [
             0.5,
             "#f7f7f7"
            ],
            [
             0.6,
             "#e6f5d0"
            ],
            [
             0.7,
             "#b8e186"
            ],
            [
             0.8,
             "#7fbc41"
            ],
            [
             0.9,
             "#4d9221"
            ],
            [
             1,
             "#276419"
            ]
           ],
           "sequential": [
            [
             0,
             "#0d0887"
            ],
            [
             0.1111111111111111,
             "#46039f"
            ],
            [
             0.2222222222222222,
             "#7201a8"
            ],
            [
             0.3333333333333333,
             "#9c179e"
            ],
            [
             0.4444444444444444,
             "#bd3786"
            ],
            [
             0.5555555555555556,
             "#d8576b"
            ],
            [
             0.6666666666666666,
             "#ed7953"
            ],
            [
             0.7777777777777778,
             "#fb9f3a"
            ],
            [
             0.8888888888888888,
             "#fdca26"
            ],
            [
             1,
             "#f0f921"
            ]
           ],
           "sequentialminus": [
            [
             0,
             "#0d0887"
            ],
            [
             0.1111111111111111,
             "#46039f"
            ],
            [
             0.2222222222222222,
             "#7201a8"
            ],
            [
             0.3333333333333333,
             "#9c179e"
            ],
            [
             0.4444444444444444,
             "#bd3786"
            ],
            [
             0.5555555555555556,
             "#d8576b"
            ],
            [
             0.6666666666666666,
             "#ed7953"
            ],
            [
             0.7777777777777778,
             "#fb9f3a"
            ],
            [
             0.8888888888888888,
             "#fdca26"
            ],
            [
             1,
             "#f0f921"
            ]
           ]
          },
          "colorway": [
           "#636efa",
           "#EF553B",
           "#00cc96",
           "#ab63fa",
           "#FFA15A",
           "#19d3f3",
           "#FF6692",
           "#B6E880",
           "#FF97FF",
           "#FECB52"
          ],
          "font": {
           "color": "#2a3f5f"
          },
          "geo": {
           "bgcolor": "white",
           "lakecolor": "white",
           "landcolor": "white",
           "showlakes": true,
           "showland": true,
           "subunitcolor": "#C8D4E3"
          },
          "hoverlabel": {
           "align": "left"
          },
          "hovermode": "closest",
          "mapbox": {
           "style": "light"
          },
          "paper_bgcolor": "white",
          "plot_bgcolor": "white",
          "polar": {
           "angularaxis": {
            "gridcolor": "#EBF0F8",
            "linecolor": "#EBF0F8",
            "ticks": ""
           },
           "bgcolor": "white",
           "radialaxis": {
            "gridcolor": "#EBF0F8",
            "linecolor": "#EBF0F8",
            "ticks": ""
           }
          },
          "scene": {
           "xaxis": {
            "backgroundcolor": "white",
            "gridcolor": "#DFE8F3",
            "gridwidth": 2,
            "linecolor": "#EBF0F8",
            "showbackground": true,
            "ticks": "",
            "zerolinecolor": "#EBF0F8"
           },
           "yaxis": {
            "backgroundcolor": "white",
            "gridcolor": "#DFE8F3",
            "gridwidth": 2,
            "linecolor": "#EBF0F8",
            "showbackground": true,
            "ticks": "",
            "zerolinecolor": "#EBF0F8"
           },
           "zaxis": {
            "backgroundcolor": "white",
            "gridcolor": "#DFE8F3",
            "gridwidth": 2,
            "linecolor": "#EBF0F8",
            "showbackground": true,
            "ticks": "",
            "zerolinecolor": "#EBF0F8"
           }
          },
          "shapedefaults": {
           "line": {
            "color": "#2a3f5f"
           }
          },
          "ternary": {
           "aaxis": {
            "gridcolor": "#DFE8F3",
            "linecolor": "#A2B1C6",
            "ticks": ""
           },
           "baxis": {
            "gridcolor": "#DFE8F3",
            "linecolor": "#A2B1C6",
            "ticks": ""
           },
           "bgcolor": "white",
           "caxis": {
            "gridcolor": "#DFE8F3",
            "linecolor": "#A2B1C6",
            "ticks": ""
           }
          },
          "title": {
           "x": 0.05
          },
          "xaxis": {
           "automargin": true,
           "gridcolor": "#EBF0F8",
           "linecolor": "#EBF0F8",
           "ticks": "",
           "title": {
            "standoff": 15
           },
           "zerolinecolor": "#EBF0F8",
           "zerolinewidth": 2
          },
          "yaxis": {
           "automargin": true,
           "gridcolor": "#EBF0F8",
           "linecolor": "#EBF0F8",
           "ticks": "",
           "title": {
            "standoff": 15
           },
           "zerolinecolor": "#EBF0F8",
           "zerolinewidth": 2
          }
         }
        },
        "title": {
         "text": "Idade dos entrevistados"
        },
        "width": 600,
        "yaxis": {
         "showgrid": false,
         "title": {
          "text": "Idade"
         }
        }
       }
      }
     },
     "metadata": {},
     "output_type": "display_data"
    }
   ],
   "source": [
    "fig = go.Figure(go.Box(y=df.idade, name=\"\", boxmean=True))\n",
    "fig.update_layout(template=\"plotly_white\", \n",
    "                title=\"Idade dos entrevistados\",\n",
    "                yaxis={\"title\": \"Idade\",\n",
    "                        \"showgrid\": False,},\n",
    "                width=600,\n",
    "                height=500,\n",
    "                )\n",
    "fig.show()"
   ]
  },
  {
   "cell_type": "code",
   "execution_count": 387,
   "metadata": {},
   "outputs": [
    {
     "data": {
      "application/vnd.plotly.v1+json": {
       "config": {
        "plotlyServerURL": "https://plot.ly"
       },
       "data": [
        {
         "name": "",
         "orientation": "h",
         "text": [
          7,
          13,
          50,
          64,
          79
         ],
         "textposition": "outside",
         "type": "bar",
         "x": [
          7,
          13,
          50,
          64,
          79
         ],
         "y": [
          "Nenhuma das opções",
          "Aposentado",
          "Estudando e Trabalhando",
          "Trabalhando",
          "Estudando"
         ]
        }
       ],
       "layout": {
        "height": 500,
        "template": {
         "data": {
          "bar": [
           {
            "error_x": {
             "color": "#2a3f5f"
            },
            "error_y": {
             "color": "#2a3f5f"
            },
            "marker": {
             "line": {
              "color": "white",
              "width": 0.5
             },
             "pattern": {
              "fillmode": "overlay",
              "size": 10,
              "solidity": 0.2
             }
            },
            "type": "bar"
           }
          ],
          "barpolar": [
           {
            "marker": {
             "line": {
              "color": "white",
              "width": 0.5
             },
             "pattern": {
              "fillmode": "overlay",
              "size": 10,
              "solidity": 0.2
             }
            },
            "type": "barpolar"
           }
          ],
          "carpet": [
           {
            "aaxis": {
             "endlinecolor": "#2a3f5f",
             "gridcolor": "#C8D4E3",
             "linecolor": "#C8D4E3",
             "minorgridcolor": "#C8D4E3",
             "startlinecolor": "#2a3f5f"
            },
            "baxis": {
             "endlinecolor": "#2a3f5f",
             "gridcolor": "#C8D4E3",
             "linecolor": "#C8D4E3",
             "minorgridcolor": "#C8D4E3",
             "startlinecolor": "#2a3f5f"
            },
            "type": "carpet"
           }
          ],
          "choropleth": [
           {
            "colorbar": {
             "outlinewidth": 0,
             "ticks": ""
            },
            "type": "choropleth"
           }
          ],
          "contour": [
           {
            "colorbar": {
             "outlinewidth": 0,
             "ticks": ""
            },
            "colorscale": [
             [
              0,
              "#0d0887"
             ],
             [
              0.1111111111111111,
              "#46039f"
             ],
             [
              0.2222222222222222,
              "#7201a8"
             ],
             [
              0.3333333333333333,
              "#9c179e"
             ],
             [
              0.4444444444444444,
              "#bd3786"
             ],
             [
              0.5555555555555556,
              "#d8576b"
             ],
             [
              0.6666666666666666,
              "#ed7953"
             ],
             [
              0.7777777777777778,
              "#fb9f3a"
             ],
             [
              0.8888888888888888,
              "#fdca26"
             ],
             [
              1,
              "#f0f921"
             ]
            ],
            "type": "contour"
           }
          ],
          "contourcarpet": [
           {
            "colorbar": {
             "outlinewidth": 0,
             "ticks": ""
            },
            "type": "contourcarpet"
           }
          ],
          "heatmap": [
           {
            "colorbar": {
             "outlinewidth": 0,
             "ticks": ""
            },
            "colorscale": [
             [
              0,
              "#0d0887"
             ],
             [
              0.1111111111111111,
              "#46039f"
             ],
             [
              0.2222222222222222,
              "#7201a8"
             ],
             [
              0.3333333333333333,
              "#9c179e"
             ],
             [
              0.4444444444444444,
              "#bd3786"
             ],
             [
              0.5555555555555556,
              "#d8576b"
             ],
             [
              0.6666666666666666,
              "#ed7953"
             ],
             [
              0.7777777777777778,
              "#fb9f3a"
             ],
             [
              0.8888888888888888,
              "#fdca26"
             ],
             [
              1,
              "#f0f921"
             ]
            ],
            "type": "heatmap"
           }
          ],
          "heatmapgl": [
           {
            "colorbar": {
             "outlinewidth": 0,
             "ticks": ""
            },
            "colorscale": [
             [
              0,
              "#0d0887"
             ],
             [
              0.1111111111111111,
              "#46039f"
             ],
             [
              0.2222222222222222,
              "#7201a8"
             ],
             [
              0.3333333333333333,
              "#9c179e"
             ],
             [
              0.4444444444444444,
              "#bd3786"
             ],
             [
              0.5555555555555556,
              "#d8576b"
             ],
             [
              0.6666666666666666,
              "#ed7953"
             ],
             [
              0.7777777777777778,
              "#fb9f3a"
             ],
             [
              0.8888888888888888,
              "#fdca26"
             ],
             [
              1,
              "#f0f921"
             ]
            ],
            "type": "heatmapgl"
           }
          ],
          "histogram": [
           {
            "marker": {
             "pattern": {
              "fillmode": "overlay",
              "size": 10,
              "solidity": 0.2
             }
            },
            "type": "histogram"
           }
          ],
          "histogram2d": [
           {
            "colorbar": {
             "outlinewidth": 0,
             "ticks": ""
            },
            "colorscale": [
             [
              0,
              "#0d0887"
             ],
             [
              0.1111111111111111,
              "#46039f"
             ],
             [
              0.2222222222222222,
              "#7201a8"
             ],
             [
              0.3333333333333333,
              "#9c179e"
             ],
             [
              0.4444444444444444,
              "#bd3786"
             ],
             [
              0.5555555555555556,
              "#d8576b"
             ],
             [
              0.6666666666666666,
              "#ed7953"
             ],
             [
              0.7777777777777778,
              "#fb9f3a"
             ],
             [
              0.8888888888888888,
              "#fdca26"
             ],
             [
              1,
              "#f0f921"
             ]
            ],
            "type": "histogram2d"
           }
          ],
          "histogram2dcontour": [
           {
            "colorbar": {
             "outlinewidth": 0,
             "ticks": ""
            },
            "colorscale": [
             [
              0,
              "#0d0887"
             ],
             [
              0.1111111111111111,
              "#46039f"
             ],
             [
              0.2222222222222222,
              "#7201a8"
             ],
             [
              0.3333333333333333,
              "#9c179e"
             ],
             [
              0.4444444444444444,
              "#bd3786"
             ],
             [
              0.5555555555555556,
              "#d8576b"
             ],
             [
              0.6666666666666666,
              "#ed7953"
             ],
             [
              0.7777777777777778,
              "#fb9f3a"
             ],
             [
              0.8888888888888888,
              "#fdca26"
             ],
             [
              1,
              "#f0f921"
             ]
            ],
            "type": "histogram2dcontour"
           }
          ],
          "mesh3d": [
           {
            "colorbar": {
             "outlinewidth": 0,
             "ticks": ""
            },
            "type": "mesh3d"
           }
          ],
          "parcoords": [
           {
            "line": {
             "colorbar": {
              "outlinewidth": 0,
              "ticks": ""
             }
            },
            "type": "parcoords"
           }
          ],
          "pie": [
           {
            "automargin": true,
            "type": "pie"
           }
          ],
          "scatter": [
           {
            "marker": {
             "colorbar": {
              "outlinewidth": 0,
              "ticks": ""
             }
            },
            "type": "scatter"
           }
          ],
          "scatter3d": [
           {
            "line": {
             "colorbar": {
              "outlinewidth": 0,
              "ticks": ""
             }
            },
            "marker": {
             "colorbar": {
              "outlinewidth": 0,
              "ticks": ""
             }
            },
            "type": "scatter3d"
           }
          ],
          "scattercarpet": [
           {
            "marker": {
             "colorbar": {
              "outlinewidth": 0,
              "ticks": ""
             }
            },
            "type": "scattercarpet"
           }
          ],
          "scattergeo": [
           {
            "marker": {
             "colorbar": {
              "outlinewidth": 0,
              "ticks": ""
             }
            },
            "type": "scattergeo"
           }
          ],
          "scattergl": [
           {
            "marker": {
             "colorbar": {
              "outlinewidth": 0,
              "ticks": ""
             }
            },
            "type": "scattergl"
           }
          ],
          "scattermapbox": [
           {
            "marker": {
             "colorbar": {
              "outlinewidth": 0,
              "ticks": ""
             }
            },
            "type": "scattermapbox"
           }
          ],
          "scatterpolar": [
           {
            "marker": {
             "colorbar": {
              "outlinewidth": 0,
              "ticks": ""
             }
            },
            "type": "scatterpolar"
           }
          ],
          "scatterpolargl": [
           {
            "marker": {
             "colorbar": {
              "outlinewidth": 0,
              "ticks": ""
             }
            },
            "type": "scatterpolargl"
           }
          ],
          "scatterternary": [
           {
            "marker": {
             "colorbar": {
              "outlinewidth": 0,
              "ticks": ""
             }
            },
            "type": "scatterternary"
           }
          ],
          "surface": [
           {
            "colorbar": {
             "outlinewidth": 0,
             "ticks": ""
            },
            "colorscale": [
             [
              0,
              "#0d0887"
             ],
             [
              0.1111111111111111,
              "#46039f"
             ],
             [
              0.2222222222222222,
              "#7201a8"
             ],
             [
              0.3333333333333333,
              "#9c179e"
             ],
             [
              0.4444444444444444,
              "#bd3786"
             ],
             [
              0.5555555555555556,
              "#d8576b"
             ],
             [
              0.6666666666666666,
              "#ed7953"
             ],
             [
              0.7777777777777778,
              "#fb9f3a"
             ],
             [
              0.8888888888888888,
              "#fdca26"
             ],
             [
              1,
              "#f0f921"
             ]
            ],
            "type": "surface"
           }
          ],
          "table": [
           {
            "cells": {
             "fill": {
              "color": "#EBF0F8"
             },
             "line": {
              "color": "white"
             }
            },
            "header": {
             "fill": {
              "color": "#C8D4E3"
             },
             "line": {
              "color": "white"
             }
            },
            "type": "table"
           }
          ]
         },
         "layout": {
          "annotationdefaults": {
           "arrowcolor": "#2a3f5f",
           "arrowhead": 0,
           "arrowwidth": 1
          },
          "autotypenumbers": "strict",
          "coloraxis": {
           "colorbar": {
            "outlinewidth": 0,
            "ticks": ""
           }
          },
          "colorscale": {
           "diverging": [
            [
             0,
             "#8e0152"
            ],
            [
             0.1,
             "#c51b7d"
            ],
            [
             0.2,
             "#de77ae"
            ],
            [
             0.3,
             "#f1b6da"
            ],
            [
             0.4,
             "#fde0ef"
            ],
            [
             0.5,
             "#f7f7f7"
            ],
            [
             0.6,
             "#e6f5d0"
            ],
            [
             0.7,
             "#b8e186"
            ],
            [
             0.8,
             "#7fbc41"
            ],
            [
             0.9,
             "#4d9221"
            ],
            [
             1,
             "#276419"
            ]
           ],
           "sequential": [
            [
             0,
             "#0d0887"
            ],
            [
             0.1111111111111111,
             "#46039f"
            ],
            [
             0.2222222222222222,
             "#7201a8"
            ],
            [
             0.3333333333333333,
             "#9c179e"
            ],
            [
             0.4444444444444444,
             "#bd3786"
            ],
            [
             0.5555555555555556,
             "#d8576b"
            ],
            [
             0.6666666666666666,
             "#ed7953"
            ],
            [
             0.7777777777777778,
             "#fb9f3a"
            ],
            [
             0.8888888888888888,
             "#fdca26"
            ],
            [
             1,
             "#f0f921"
            ]
           ],
           "sequentialminus": [
            [
             0,
             "#0d0887"
            ],
            [
             0.1111111111111111,
             "#46039f"
            ],
            [
             0.2222222222222222,
             "#7201a8"
            ],
            [
             0.3333333333333333,
             "#9c179e"
            ],
            [
             0.4444444444444444,
             "#bd3786"
            ],
            [
             0.5555555555555556,
             "#d8576b"
            ],
            [
             0.6666666666666666,
             "#ed7953"
            ],
            [
             0.7777777777777778,
             "#fb9f3a"
            ],
            [
             0.8888888888888888,
             "#fdca26"
            ],
            [
             1,
             "#f0f921"
            ]
           ]
          },
          "colorway": [
           "#636efa",
           "#EF553B",
           "#00cc96",
           "#ab63fa",
           "#FFA15A",
           "#19d3f3",
           "#FF6692",
           "#B6E880",
           "#FF97FF",
           "#FECB52"
          ],
          "font": {
           "color": "#2a3f5f"
          },
          "geo": {
           "bgcolor": "white",
           "lakecolor": "white",
           "landcolor": "white",
           "showlakes": true,
           "showland": true,
           "subunitcolor": "#C8D4E3"
          },
          "hoverlabel": {
           "align": "left"
          },
          "hovermode": "closest",
          "mapbox": {
           "style": "light"
          },
          "paper_bgcolor": "white",
          "plot_bgcolor": "white",
          "polar": {
           "angularaxis": {
            "gridcolor": "#EBF0F8",
            "linecolor": "#EBF0F8",
            "ticks": ""
           },
           "bgcolor": "white",
           "radialaxis": {
            "gridcolor": "#EBF0F8",
            "linecolor": "#EBF0F8",
            "ticks": ""
           }
          },
          "scene": {
           "xaxis": {
            "backgroundcolor": "white",
            "gridcolor": "#DFE8F3",
            "gridwidth": 2,
            "linecolor": "#EBF0F8",
            "showbackground": true,
            "ticks": "",
            "zerolinecolor": "#EBF0F8"
           },
           "yaxis": {
            "backgroundcolor": "white",
            "gridcolor": "#DFE8F3",
            "gridwidth": 2,
            "linecolor": "#EBF0F8",
            "showbackground": true,
            "ticks": "",
            "zerolinecolor": "#EBF0F8"
           },
           "zaxis": {
            "backgroundcolor": "white",
            "gridcolor": "#DFE8F3",
            "gridwidth": 2,
            "linecolor": "#EBF0F8",
            "showbackground": true,
            "ticks": "",
            "zerolinecolor": "#EBF0F8"
           }
          },
          "shapedefaults": {
           "line": {
            "color": "#2a3f5f"
           }
          },
          "ternary": {
           "aaxis": {
            "gridcolor": "#DFE8F3",
            "linecolor": "#A2B1C6",
            "ticks": ""
           },
           "baxis": {
            "gridcolor": "#DFE8F3",
            "linecolor": "#A2B1C6",
            "ticks": ""
           },
           "bgcolor": "white",
           "caxis": {
            "gridcolor": "#DFE8F3",
            "linecolor": "#A2B1C6",
            "ticks": ""
           }
          },
          "title": {
           "x": 0.05
          },
          "xaxis": {
           "automargin": true,
           "gridcolor": "#EBF0F8",
           "linecolor": "#EBF0F8",
           "ticks": "",
           "title": {
            "standoff": 15
           },
           "zerolinecolor": "#EBF0F8",
           "zerolinewidth": 2
          },
          "yaxis": {
           "automargin": true,
           "gridcolor": "#EBF0F8",
           "linecolor": "#EBF0F8",
           "ticks": "",
           "title": {
            "standoff": 15
           },
           "zerolinecolor": "#EBF0F8",
           "zerolinewidth": 2
          }
         }
        },
        "title": {
         "text": "Ocupação dos entrevistados"
        },
        "width": 800,
        "xaxis": {
         "showgrid": false,
         "visible": false
        },
        "yaxis": {
         "showgrid": false
        }
       }
      }
     },
     "metadata": {},
     "output_type": "display_data"
    }
   ],
   "source": [
    "df_ocupacao = df.ocupacao.value_counts().sort_values(ascending=True)\n",
    "fig = go.Figure(go.Bar(y=df_ocupacao.index, x=df_ocupacao.values, orientation=\"h\", name=\"\",\n",
    "                       text=df_ocupacao.values, textposition=\"outside\",))\n",
    "fig.update_layout(template=\"plotly_white\",\n",
    "                title=\"Ocupação dos entrevistados\", \n",
    "                yaxis={\"showgrid\": False,},\n",
    "                xaxis={\"showgrid\": False,\n",
    "                       \"visible\": False},\n",
    "                width=800,\n",
    "                height=500,\n",
    "                )\n",
    "            \n",
    "fig.show()"
   ]
  },
  {
   "cell_type": "markdown",
   "metadata": {},
   "source": [
    "A distribuição da idade dos participantes da pesquisa se alinha com o mercado consumidor de serviços de streaming, que é um público majoritariamente jovem."
   ]
  },
  {
   "cell_type": "markdown",
   "metadata": {},
   "source": [
    "### Serviços e comportamento do usuário"
   ]
  },
  {
   "cell_type": "markdown",
   "metadata": {},
   "source": [
    "#### Serviços conhecidos, assinados e favoritos"
   ]
  },
  {
   "cell_type": "code",
   "execution_count": 388,
   "metadata": {},
   "outputs": [],
   "source": [
    "df[\"n_servicos_conhecidos\"] = df.servicos_conhecidos.apply(lambda x: len(x.split(\";\")))\n",
    "df[\"n_servicos_assinados\"] = df.servicos_assinados.apply(lambda x: len(x.split(\";\")))"
   ]
  },
  {
   "cell_type": "code",
   "execution_count": 389,
   "metadata": {},
   "outputs": [
    {
     "data": {
      "application/vnd.plotly.v1+json": {
       "config": {
        "plotlyServerURL": "https://plot.ly"
       },
       "data": [
        {
         "boxmean": true,
         "name": "Conhecidos",
         "type": "box",
         "xaxis": "x",
         "y": [
          7,
          7,
          8,
          5,
          7,
          5,
          7,
          4,
          6,
          6,
          5,
          6,
          6,
          7,
          7,
          6,
          4,
          2,
          7,
          5,
          6,
          7,
          6,
          6,
          4,
          7,
          8,
          6,
          6,
          7,
          6,
          4,
          6,
          5,
          4,
          6,
          6,
          5,
          7,
          6,
          6,
          7,
          5,
          5,
          8,
          7,
          6,
          6,
          4,
          8,
          7,
          7,
          6,
          6,
          3,
          6,
          5,
          7,
          5,
          6,
          1,
          5,
          7,
          7,
          6,
          5,
          7,
          8,
          6,
          8,
          6,
          6,
          7,
          6,
          7,
          7,
          6,
          9,
          7,
          7,
          6,
          6,
          6,
          6,
          6,
          6,
          5,
          8,
          6,
          6,
          2,
          5,
          2,
          6,
          6,
          7,
          6,
          6,
          6,
          5,
          3,
          5,
          4,
          6,
          6,
          7,
          2,
          3,
          6,
          1,
          10,
          7,
          7,
          7,
          1,
          3,
          6,
          6,
          7,
          6,
          3,
          7,
          6,
          4,
          4,
          5,
          2,
          7,
          7,
          7,
          6,
          4,
          7,
          7,
          6,
          7,
          7,
          6,
          8,
          6,
          6,
          6,
          1,
          6,
          6,
          6,
          6,
          7,
          4,
          7,
          5,
          5,
          8,
          7,
          6,
          6,
          1,
          5,
          3,
          6,
          5,
          1,
          1,
          3,
          6,
          5,
          6,
          3,
          2,
          7,
          6,
          1,
          4,
          5,
          5,
          5,
          7,
          5,
          6,
          5,
          5,
          1,
          3,
          3,
          7,
          6,
          1,
          7,
          6,
          2,
          5,
          6,
          3,
          5,
          7,
          6,
          4,
          7,
          8,
          6,
          4,
          5,
          6,
          7,
          8,
          6,
          2,
          7,
          4,
          8,
          5,
          7,
          7
         ],
         "yaxis": "y"
        },
        {
         "boxmean": true,
         "name": "Assinados",
         "type": "box",
         "xaxis": "x2",
         "y": [
          3,
          3,
          6,
          4,
          5,
          3,
          4,
          1,
          6,
          4,
          1,
          2,
          6,
          4,
          3,
          2,
          1,
          1,
          5,
          3,
          1,
          5,
          1,
          4,
          2,
          1,
          5,
          2,
          4,
          5,
          5,
          1,
          4,
          2,
          1,
          2,
          6,
          4,
          6,
          3,
          6,
          5,
          4,
          1,
          5,
          6,
          2,
          4,
          2,
          6,
          4,
          5,
          6,
          3,
          3,
          1,
          5,
          2,
          5,
          2,
          1,
          4,
          2,
          3,
          2,
          1,
          5,
          2,
          3,
          8,
          5,
          2,
          4,
          4,
          5,
          2,
          6,
          6,
          5,
          5,
          4,
          2,
          1,
          3,
          6,
          2,
          3,
          4,
          1,
          2,
          2,
          3,
          2,
          3,
          6,
          5,
          1,
          2,
          1,
          2,
          1,
          2,
          2,
          5,
          4,
          4,
          2,
          2,
          5,
          1,
          5,
          1,
          5,
          5,
          1,
          2,
          3,
          5,
          6,
          3,
          5,
          5,
          2,
          3,
          3,
          3,
          2,
          1,
          1,
          6,
          3,
          4,
          5,
          4,
          5,
          2,
          5,
          5,
          3,
          4,
          6,
          5,
          5,
          6,
          3,
          4,
          3,
          5,
          2,
          1,
          3,
          2,
          4,
          5,
          6,
          3,
          1,
          3,
          1,
          3,
          4,
          1,
          3,
          1,
          6,
          3,
          3,
          3,
          2,
          4,
          5,
          1,
          2,
          2,
          4,
          2,
          5,
          3,
          2,
          2,
          1,
          1,
          2,
          1,
          4,
          3,
          2,
          4,
          3,
          1,
          2,
          2,
          1,
          3,
          6,
          3,
          1,
          4,
          4,
          4,
          3,
          4,
          3,
          3,
          6,
          2,
          2,
          6,
          2,
          7,
          2,
          3,
          5
         ],
         "yaxis": "y2"
        }
       ],
       "layout": {
        "height": 500,
        "showlegend": false,
        "template": {
         "data": {
          "bar": [
           {
            "error_x": {
             "color": "#2a3f5f"
            },
            "error_y": {
             "color": "#2a3f5f"
            },
            "marker": {
             "line": {
              "color": "white",
              "width": 0.5
             },
             "pattern": {
              "fillmode": "overlay",
              "size": 10,
              "solidity": 0.2
             }
            },
            "type": "bar"
           }
          ],
          "barpolar": [
           {
            "marker": {
             "line": {
              "color": "white",
              "width": 0.5
             },
             "pattern": {
              "fillmode": "overlay",
              "size": 10,
              "solidity": 0.2
             }
            },
            "type": "barpolar"
           }
          ],
          "carpet": [
           {
            "aaxis": {
             "endlinecolor": "#2a3f5f",
             "gridcolor": "#C8D4E3",
             "linecolor": "#C8D4E3",
             "minorgridcolor": "#C8D4E3",
             "startlinecolor": "#2a3f5f"
            },
            "baxis": {
             "endlinecolor": "#2a3f5f",
             "gridcolor": "#C8D4E3",
             "linecolor": "#C8D4E3",
             "minorgridcolor": "#C8D4E3",
             "startlinecolor": "#2a3f5f"
            },
            "type": "carpet"
           }
          ],
          "choropleth": [
           {
            "colorbar": {
             "outlinewidth": 0,
             "ticks": ""
            },
            "type": "choropleth"
           }
          ],
          "contour": [
           {
            "colorbar": {
             "outlinewidth": 0,
             "ticks": ""
            },
            "colorscale": [
             [
              0,
              "#0d0887"
             ],
             [
              0.1111111111111111,
              "#46039f"
             ],
             [
              0.2222222222222222,
              "#7201a8"
             ],
             [
              0.3333333333333333,
              "#9c179e"
             ],
             [
              0.4444444444444444,
              "#bd3786"
             ],
             [
              0.5555555555555556,
              "#d8576b"
             ],
             [
              0.6666666666666666,
              "#ed7953"
             ],
             [
              0.7777777777777778,
              "#fb9f3a"
             ],
             [
              0.8888888888888888,
              "#fdca26"
             ],
             [
              1,
              "#f0f921"
             ]
            ],
            "type": "contour"
           }
          ],
          "contourcarpet": [
           {
            "colorbar": {
             "outlinewidth": 0,
             "ticks": ""
            },
            "type": "contourcarpet"
           }
          ],
          "heatmap": [
           {
            "colorbar": {
             "outlinewidth": 0,
             "ticks": ""
            },
            "colorscale": [
             [
              0,
              "#0d0887"
             ],
             [
              0.1111111111111111,
              "#46039f"
             ],
             [
              0.2222222222222222,
              "#7201a8"
             ],
             [
              0.3333333333333333,
              "#9c179e"
             ],
             [
              0.4444444444444444,
              "#bd3786"
             ],
             [
              0.5555555555555556,
              "#d8576b"
             ],
             [
              0.6666666666666666,
              "#ed7953"
             ],
             [
              0.7777777777777778,
              "#fb9f3a"
             ],
             [
              0.8888888888888888,
              "#fdca26"
             ],
             [
              1,
              "#f0f921"
             ]
            ],
            "type": "heatmap"
           }
          ],
          "heatmapgl": [
           {
            "colorbar": {
             "outlinewidth": 0,
             "ticks": ""
            },
            "colorscale": [
             [
              0,
              "#0d0887"
             ],
             [
              0.1111111111111111,
              "#46039f"
             ],
             [
              0.2222222222222222,
              "#7201a8"
             ],
             [
              0.3333333333333333,
              "#9c179e"
             ],
             [
              0.4444444444444444,
              "#bd3786"
             ],
             [
              0.5555555555555556,
              "#d8576b"
             ],
             [
              0.6666666666666666,
              "#ed7953"
             ],
             [
              0.7777777777777778,
              "#fb9f3a"
             ],
             [
              0.8888888888888888,
              "#fdca26"
             ],
             [
              1,
              "#f0f921"
             ]
            ],
            "type": "heatmapgl"
           }
          ],
          "histogram": [
           {
            "marker": {
             "pattern": {
              "fillmode": "overlay",
              "size": 10,
              "solidity": 0.2
             }
            },
            "type": "histogram"
           }
          ],
          "histogram2d": [
           {
            "colorbar": {
             "outlinewidth": 0,
             "ticks": ""
            },
            "colorscale": [
             [
              0,
              "#0d0887"
             ],
             [
              0.1111111111111111,
              "#46039f"
             ],
             [
              0.2222222222222222,
              "#7201a8"
             ],
             [
              0.3333333333333333,
              "#9c179e"
             ],
             [
              0.4444444444444444,
              "#bd3786"
             ],
             [
              0.5555555555555556,
              "#d8576b"
             ],
             [
              0.6666666666666666,
              "#ed7953"
             ],
             [
              0.7777777777777778,
              "#fb9f3a"
             ],
             [
              0.8888888888888888,
              "#fdca26"
             ],
             [
              1,
              "#f0f921"
             ]
            ],
            "type": "histogram2d"
           }
          ],
          "histogram2dcontour": [
           {
            "colorbar": {
             "outlinewidth": 0,
             "ticks": ""
            },
            "colorscale": [
             [
              0,
              "#0d0887"
             ],
             [
              0.1111111111111111,
              "#46039f"
             ],
             [
              0.2222222222222222,
              "#7201a8"
             ],
             [
              0.3333333333333333,
              "#9c179e"
             ],
             [
              0.4444444444444444,
              "#bd3786"
             ],
             [
              0.5555555555555556,
              "#d8576b"
             ],
             [
              0.6666666666666666,
              "#ed7953"
             ],
             [
              0.7777777777777778,
              "#fb9f3a"
             ],
             [
              0.8888888888888888,
              "#fdca26"
             ],
             [
              1,
              "#f0f921"
             ]
            ],
            "type": "histogram2dcontour"
           }
          ],
          "mesh3d": [
           {
            "colorbar": {
             "outlinewidth": 0,
             "ticks": ""
            },
            "type": "mesh3d"
           }
          ],
          "parcoords": [
           {
            "line": {
             "colorbar": {
              "outlinewidth": 0,
              "ticks": ""
             }
            },
            "type": "parcoords"
           }
          ],
          "pie": [
           {
            "automargin": true,
            "type": "pie"
           }
          ],
          "scatter": [
           {
            "marker": {
             "colorbar": {
              "outlinewidth": 0,
              "ticks": ""
             }
            },
            "type": "scatter"
           }
          ],
          "scatter3d": [
           {
            "line": {
             "colorbar": {
              "outlinewidth": 0,
              "ticks": ""
             }
            },
            "marker": {
             "colorbar": {
              "outlinewidth": 0,
              "ticks": ""
             }
            },
            "type": "scatter3d"
           }
          ],
          "scattercarpet": [
           {
            "marker": {
             "colorbar": {
              "outlinewidth": 0,
              "ticks": ""
             }
            },
            "type": "scattercarpet"
           }
          ],
          "scattergeo": [
           {
            "marker": {
             "colorbar": {
              "outlinewidth": 0,
              "ticks": ""
             }
            },
            "type": "scattergeo"
           }
          ],
          "scattergl": [
           {
            "marker": {
             "colorbar": {
              "outlinewidth": 0,
              "ticks": ""
             }
            },
            "type": "scattergl"
           }
          ],
          "scattermapbox": [
           {
            "marker": {
             "colorbar": {
              "outlinewidth": 0,
              "ticks": ""
             }
            },
            "type": "scattermapbox"
           }
          ],
          "scatterpolar": [
           {
            "marker": {
             "colorbar": {
              "outlinewidth": 0,
              "ticks": ""
             }
            },
            "type": "scatterpolar"
           }
          ],
          "scatterpolargl": [
           {
            "marker": {
             "colorbar": {
              "outlinewidth": 0,
              "ticks": ""
             }
            },
            "type": "scatterpolargl"
           }
          ],
          "scatterternary": [
           {
            "marker": {
             "colorbar": {
              "outlinewidth": 0,
              "ticks": ""
             }
            },
            "type": "scatterternary"
           }
          ],
          "surface": [
           {
            "colorbar": {
             "outlinewidth": 0,
             "ticks": ""
            },
            "colorscale": [
             [
              0,
              "#0d0887"
             ],
             [
              0.1111111111111111,
              "#46039f"
             ],
             [
              0.2222222222222222,
              "#7201a8"
             ],
             [
              0.3333333333333333,
              "#9c179e"
             ],
             [
              0.4444444444444444,
              "#bd3786"
             ],
             [
              0.5555555555555556,
              "#d8576b"
             ],
             [
              0.6666666666666666,
              "#ed7953"
             ],
             [
              0.7777777777777778,
              "#fb9f3a"
             ],
             [
              0.8888888888888888,
              "#fdca26"
             ],
             [
              1,
              "#f0f921"
             ]
            ],
            "type": "surface"
           }
          ],
          "table": [
           {
            "cells": {
             "fill": {
              "color": "#EBF0F8"
             },
             "line": {
              "color": "white"
             }
            },
            "header": {
             "fill": {
              "color": "#C8D4E3"
             },
             "line": {
              "color": "white"
             }
            },
            "type": "table"
           }
          ]
         },
         "layout": {
          "annotationdefaults": {
           "arrowcolor": "#2a3f5f",
           "arrowhead": 0,
           "arrowwidth": 1
          },
          "autotypenumbers": "strict",
          "coloraxis": {
           "colorbar": {
            "outlinewidth": 0,
            "ticks": ""
           }
          },
          "colorscale": {
           "diverging": [
            [
             0,
             "#8e0152"
            ],
            [
             0.1,
             "#c51b7d"
            ],
            [
             0.2,
             "#de77ae"
            ],
            [
             0.3,
             "#f1b6da"
            ],
            [
             0.4,
             "#fde0ef"
            ],
            [
             0.5,
             "#f7f7f7"
            ],
            [
             0.6,
             "#e6f5d0"
            ],
            [
             0.7,
             "#b8e186"
            ],
            [
             0.8,
             "#7fbc41"
            ],
            [
             0.9,
             "#4d9221"
            ],
            [
             1,
             "#276419"
            ]
           ],
           "sequential": [
            [
             0,
             "#0d0887"
            ],
            [
             0.1111111111111111,
             "#46039f"
            ],
            [
             0.2222222222222222,
             "#7201a8"
            ],
            [
             0.3333333333333333,
             "#9c179e"
            ],
            [
             0.4444444444444444,
             "#bd3786"
            ],
            [
             0.5555555555555556,
             "#d8576b"
            ],
            [
             0.6666666666666666,
             "#ed7953"
            ],
            [
             0.7777777777777778,
             "#fb9f3a"
            ],
            [
             0.8888888888888888,
             "#fdca26"
            ],
            [
             1,
             "#f0f921"
            ]
           ],
           "sequentialminus": [
            [
             0,
             "#0d0887"
            ],
            [
             0.1111111111111111,
             "#46039f"
            ],
            [
             0.2222222222222222,
             "#7201a8"
            ],
            [
             0.3333333333333333,
             "#9c179e"
            ],
            [
             0.4444444444444444,
             "#bd3786"
            ],
            [
             0.5555555555555556,
             "#d8576b"
            ],
            [
             0.6666666666666666,
             "#ed7953"
            ],
            [
             0.7777777777777778,
             "#fb9f3a"
            ],
            [
             0.8888888888888888,
             "#fdca26"
            ],
            [
             1,
             "#f0f921"
            ]
           ]
          },
          "colorway": [
           "#636efa",
           "#EF553B",
           "#00cc96",
           "#ab63fa",
           "#FFA15A",
           "#19d3f3",
           "#FF6692",
           "#B6E880",
           "#FF97FF",
           "#FECB52"
          ],
          "font": {
           "color": "#2a3f5f"
          },
          "geo": {
           "bgcolor": "white",
           "lakecolor": "white",
           "landcolor": "white",
           "showlakes": true,
           "showland": true,
           "subunitcolor": "#C8D4E3"
          },
          "hoverlabel": {
           "align": "left"
          },
          "hovermode": "closest",
          "mapbox": {
           "style": "light"
          },
          "paper_bgcolor": "white",
          "plot_bgcolor": "white",
          "polar": {
           "angularaxis": {
            "gridcolor": "#EBF0F8",
            "linecolor": "#EBF0F8",
            "ticks": ""
           },
           "bgcolor": "white",
           "radialaxis": {
            "gridcolor": "#EBF0F8",
            "linecolor": "#EBF0F8",
            "ticks": ""
           }
          },
          "scene": {
           "xaxis": {
            "backgroundcolor": "white",
            "gridcolor": "#DFE8F3",
            "gridwidth": 2,
            "linecolor": "#EBF0F8",
            "showbackground": true,
            "ticks": "",
            "zerolinecolor": "#EBF0F8"
           },
           "yaxis": {
            "backgroundcolor": "white",
            "gridcolor": "#DFE8F3",
            "gridwidth": 2,
            "linecolor": "#EBF0F8",
            "showbackground": true,
            "ticks": "",
            "zerolinecolor": "#EBF0F8"
           },
           "zaxis": {
            "backgroundcolor": "white",
            "gridcolor": "#DFE8F3",
            "gridwidth": 2,
            "linecolor": "#EBF0F8",
            "showbackground": true,
            "ticks": "",
            "zerolinecolor": "#EBF0F8"
           }
          },
          "shapedefaults": {
           "line": {
            "color": "#2a3f5f"
           }
          },
          "ternary": {
           "aaxis": {
            "gridcolor": "#DFE8F3",
            "linecolor": "#A2B1C6",
            "ticks": ""
           },
           "baxis": {
            "gridcolor": "#DFE8F3",
            "linecolor": "#A2B1C6",
            "ticks": ""
           },
           "bgcolor": "white",
           "caxis": {
            "gridcolor": "#DFE8F3",
            "linecolor": "#A2B1C6",
            "ticks": ""
           }
          },
          "title": {
           "x": 0.05
          },
          "xaxis": {
           "automargin": true,
           "gridcolor": "#EBF0F8",
           "linecolor": "#EBF0F8",
           "ticks": "",
           "title": {
            "standoff": 15
           },
           "zerolinecolor": "#EBF0F8",
           "zerolinewidth": 2
          },
          "yaxis": {
           "automargin": true,
           "gridcolor": "#EBF0F8",
           "linecolor": "#EBF0F8",
           "ticks": "",
           "title": {
            "standoff": 15
           },
           "zerolinecolor": "#EBF0F8",
           "zerolinewidth": 2
          }
         }
        },
        "title": {
         "text": "Quantidade de serviços conhecidos e assinados"
        },
        "width": 800,
        "xaxis": {
         "anchor": "y",
         "domain": [
          0,
          0.45
         ]
        },
        "xaxis2": {
         "anchor": "y2",
         "domain": [
          0.55,
          1
         ]
        },
        "yaxis": {
         "anchor": "x",
         "domain": [
          0,
          1
         ],
         "title": {
          "text": "Quantidade de usuários"
         }
        },
        "yaxis2": {
         "anchor": "x2",
         "domain": [
          0,
          1
         ],
         "matches": "y",
         "showticklabels": false
        }
       }
      }
     },
     "metadata": {},
     "output_type": "display_data"
    }
   ],
   "source": [
    "fig = make_subplots(rows=1, cols=2, shared_yaxes=True)\n",
    "fig.add_trace(go.Box(y=df.n_servicos_conhecidos, name=\"Conhecidos\", boxmean=True), row=1, col=1)\n",
    "fig.add_trace(go.Box(y=df.n_servicos_assinados, name=\"Assinados\", boxmean=True), row=1, col=2)\n",
    "fig.update_layout(template=\"plotly_white\",\n",
    "                    title=\"Quantidade de serviços conhecidos e assinados\",\n",
    "                    yaxis={\"title\": \"Quantidade de usuários\",\n",
    "                    },\n",
    "                    width=800,\n",
    "                    height=500,\n",
    "                    showlegend=False,\n",
    "                        )\n",
    "fig.show()"
   ]
  },
  {
   "cell_type": "markdown",
   "metadata": {},
   "source": [
    "As pessoas costumam assinar muito menos serviços do que elas conhecem."
   ]
  },
  {
   "cell_type": "code",
   "execution_count": 410,
   "metadata": {},
   "outputs": [
    {
     "data": {
      "application/vnd.plotly.v1+json": {
       "config": {
        "plotlyServerURL": "https://plot.ly"
       },
       "data": [
        {
         "name": "",
         "orientation": "h",
         "text": [
          "3",
          "6",
          "9",
          "57",
          "140",
          "179",
          "185",
          "185",
          "189",
          "213"
         ],
         "textposition": "outside",
         "type": "bar",
         "x": [
          3,
          6,
          9,
          57,
          140,
          179,
          185,
          185,
          189,
          213
         ],
         "xaxis": "x",
         "y": [
          "Paramount+",
          "Apple TV+",
          "Crunchyroll",
          "Hulu",
          "Star+",
          "Globoplay",
          "Prime Video",
          "HBO Max",
          "Disney+",
          "Netflix"
         ],
         "yaxis": "y"
        },
        {
         "name": "",
         "orientation": "h",
         "text": [
          "2",
          "3",
          "4",
          "8",
          "48",
          "64",
          "94",
          "116",
          "151",
          "203"
         ],
         "textposition": "outside",
         "type": "bar",
         "x": [
          2,
          3,
          4,
          8,
          48,
          64,
          94,
          116,
          151,
          203
         ],
         "xaxis": "x2",
         "y": [
          "DirecTV Go",
          "Paramount+",
          "Nenhum",
          "Crunchyroll",
          "Star+",
          "Globoplay",
          "HBO Max",
          "Disney+",
          "Prime Video",
          "Netflix"
         ],
         "yaxis": "y2"
        }
       ],
       "layout": {
        "annotations": [
         {
          "font": {
           "size": 16
          },
          "showarrow": false,
          "text": "Conhecidos",
          "x": 0.225,
          "xanchor": "center",
          "xref": "paper",
          "y": 1,
          "yanchor": "bottom",
          "yref": "paper"
         },
         {
          "font": {
           "size": 16
          },
          "showarrow": false,
          "text": "Assinados",
          "x": 0.775,
          "xanchor": "center",
          "xref": "paper",
          "y": 1,
          "yanchor": "bottom",
          "yref": "paper"
         }
        ],
        "showlegend": false,
        "template": {
         "data": {
          "bar": [
           {
            "error_x": {
             "color": "#2a3f5f"
            },
            "error_y": {
             "color": "#2a3f5f"
            },
            "marker": {
             "line": {
              "color": "white",
              "width": 0.5
             },
             "pattern": {
              "fillmode": "overlay",
              "size": 10,
              "solidity": 0.2
             }
            },
            "type": "bar"
           }
          ],
          "barpolar": [
           {
            "marker": {
             "line": {
              "color": "white",
              "width": 0.5
             },
             "pattern": {
              "fillmode": "overlay",
              "size": 10,
              "solidity": 0.2
             }
            },
            "type": "barpolar"
           }
          ],
          "carpet": [
           {
            "aaxis": {
             "endlinecolor": "#2a3f5f",
             "gridcolor": "#C8D4E3",
             "linecolor": "#C8D4E3",
             "minorgridcolor": "#C8D4E3",
             "startlinecolor": "#2a3f5f"
            },
            "baxis": {
             "endlinecolor": "#2a3f5f",
             "gridcolor": "#C8D4E3",
             "linecolor": "#C8D4E3",
             "minorgridcolor": "#C8D4E3",
             "startlinecolor": "#2a3f5f"
            },
            "type": "carpet"
           }
          ],
          "choropleth": [
           {
            "colorbar": {
             "outlinewidth": 0,
             "ticks": ""
            },
            "type": "choropleth"
           }
          ],
          "contour": [
           {
            "colorbar": {
             "outlinewidth": 0,
             "ticks": ""
            },
            "colorscale": [
             [
              0,
              "#0d0887"
             ],
             [
              0.1111111111111111,
              "#46039f"
             ],
             [
              0.2222222222222222,
              "#7201a8"
             ],
             [
              0.3333333333333333,
              "#9c179e"
             ],
             [
              0.4444444444444444,
              "#bd3786"
             ],
             [
              0.5555555555555556,
              "#d8576b"
             ],
             [
              0.6666666666666666,
              "#ed7953"
             ],
             [
              0.7777777777777778,
              "#fb9f3a"
             ],
             [
              0.8888888888888888,
              "#fdca26"
             ],
             [
              1,
              "#f0f921"
             ]
            ],
            "type": "contour"
           }
          ],
          "contourcarpet": [
           {
            "colorbar": {
             "outlinewidth": 0,
             "ticks": ""
            },
            "type": "contourcarpet"
           }
          ],
          "heatmap": [
           {
            "colorbar": {
             "outlinewidth": 0,
             "ticks": ""
            },
            "colorscale": [
             [
              0,
              "#0d0887"
             ],
             [
              0.1111111111111111,
              "#46039f"
             ],
             [
              0.2222222222222222,
              "#7201a8"
             ],
             [
              0.3333333333333333,
              "#9c179e"
             ],
             [
              0.4444444444444444,
              "#bd3786"
             ],
             [
              0.5555555555555556,
              "#d8576b"
             ],
             [
              0.6666666666666666,
              "#ed7953"
             ],
             [
              0.7777777777777778,
              "#fb9f3a"
             ],
             [
              0.8888888888888888,
              "#fdca26"
             ],
             [
              1,
              "#f0f921"
             ]
            ],
            "type": "heatmap"
           }
          ],
          "heatmapgl": [
           {
            "colorbar": {
             "outlinewidth": 0,
             "ticks": ""
            },
            "colorscale": [
             [
              0,
              "#0d0887"
             ],
             [
              0.1111111111111111,
              "#46039f"
             ],
             [
              0.2222222222222222,
              "#7201a8"
             ],
             [
              0.3333333333333333,
              "#9c179e"
             ],
             [
              0.4444444444444444,
              "#bd3786"
             ],
             [
              0.5555555555555556,
              "#d8576b"
             ],
             [
              0.6666666666666666,
              "#ed7953"
             ],
             [
              0.7777777777777778,
              "#fb9f3a"
             ],
             [
              0.8888888888888888,
              "#fdca26"
             ],
             [
              1,
              "#f0f921"
             ]
            ],
            "type": "heatmapgl"
           }
          ],
          "histogram": [
           {
            "marker": {
             "pattern": {
              "fillmode": "overlay",
              "size": 10,
              "solidity": 0.2
             }
            },
            "type": "histogram"
           }
          ],
          "histogram2d": [
           {
            "colorbar": {
             "outlinewidth": 0,
             "ticks": ""
            },
            "colorscale": [
             [
              0,
              "#0d0887"
             ],
             [
              0.1111111111111111,
              "#46039f"
             ],
             [
              0.2222222222222222,
              "#7201a8"
             ],
             [
              0.3333333333333333,
              "#9c179e"
             ],
             [
              0.4444444444444444,
              "#bd3786"
             ],
             [
              0.5555555555555556,
              "#d8576b"
             ],
             [
              0.6666666666666666,
              "#ed7953"
             ],
             [
              0.7777777777777778,
              "#fb9f3a"
             ],
             [
              0.8888888888888888,
              "#fdca26"
             ],
             [
              1,
              "#f0f921"
             ]
            ],
            "type": "histogram2d"
           }
          ],
          "histogram2dcontour": [
           {
            "colorbar": {
             "outlinewidth": 0,
             "ticks": ""
            },
            "colorscale": [
             [
              0,
              "#0d0887"
             ],
             [
              0.1111111111111111,
              "#46039f"
             ],
             [
              0.2222222222222222,
              "#7201a8"
             ],
             [
              0.3333333333333333,
              "#9c179e"
             ],
             [
              0.4444444444444444,
              "#bd3786"
             ],
             [
              0.5555555555555556,
              "#d8576b"
             ],
             [
              0.6666666666666666,
              "#ed7953"
             ],
             [
              0.7777777777777778,
              "#fb9f3a"
             ],
             [
              0.8888888888888888,
              "#fdca26"
             ],
             [
              1,
              "#f0f921"
             ]
            ],
            "type": "histogram2dcontour"
           }
          ],
          "mesh3d": [
           {
            "colorbar": {
             "outlinewidth": 0,
             "ticks": ""
            },
            "type": "mesh3d"
           }
          ],
          "parcoords": [
           {
            "line": {
             "colorbar": {
              "outlinewidth": 0,
              "ticks": ""
             }
            },
            "type": "parcoords"
           }
          ],
          "pie": [
           {
            "automargin": true,
            "type": "pie"
           }
          ],
          "scatter": [
           {
            "marker": {
             "colorbar": {
              "outlinewidth": 0,
              "ticks": ""
             }
            },
            "type": "scatter"
           }
          ],
          "scatter3d": [
           {
            "line": {
             "colorbar": {
              "outlinewidth": 0,
              "ticks": ""
             }
            },
            "marker": {
             "colorbar": {
              "outlinewidth": 0,
              "ticks": ""
             }
            },
            "type": "scatter3d"
           }
          ],
          "scattercarpet": [
           {
            "marker": {
             "colorbar": {
              "outlinewidth": 0,
              "ticks": ""
             }
            },
            "type": "scattercarpet"
           }
          ],
          "scattergeo": [
           {
            "marker": {
             "colorbar": {
              "outlinewidth": 0,
              "ticks": ""
             }
            },
            "type": "scattergeo"
           }
          ],
          "scattergl": [
           {
            "marker": {
             "colorbar": {
              "outlinewidth": 0,
              "ticks": ""
             }
            },
            "type": "scattergl"
           }
          ],
          "scattermapbox": [
           {
            "marker": {
             "colorbar": {
              "outlinewidth": 0,
              "ticks": ""
             }
            },
            "type": "scattermapbox"
           }
          ],
          "scatterpolar": [
           {
            "marker": {
             "colorbar": {
              "outlinewidth": 0,
              "ticks": ""
             }
            },
            "type": "scatterpolar"
           }
          ],
          "scatterpolargl": [
           {
            "marker": {
             "colorbar": {
              "outlinewidth": 0,
              "ticks": ""
             }
            },
            "type": "scatterpolargl"
           }
          ],
          "scatterternary": [
           {
            "marker": {
             "colorbar": {
              "outlinewidth": 0,
              "ticks": ""
             }
            },
            "type": "scatterternary"
           }
          ],
          "surface": [
           {
            "colorbar": {
             "outlinewidth": 0,
             "ticks": ""
            },
            "colorscale": [
             [
              0,
              "#0d0887"
             ],
             [
              0.1111111111111111,
              "#46039f"
             ],
             [
              0.2222222222222222,
              "#7201a8"
             ],
             [
              0.3333333333333333,
              "#9c179e"
             ],
             [
              0.4444444444444444,
              "#bd3786"
             ],
             [
              0.5555555555555556,
              "#d8576b"
             ],
             [
              0.6666666666666666,
              "#ed7953"
             ],
             [
              0.7777777777777778,
              "#fb9f3a"
             ],
             [
              0.8888888888888888,
              "#fdca26"
             ],
             [
              1,
              "#f0f921"
             ]
            ],
            "type": "surface"
           }
          ],
          "table": [
           {
            "cells": {
             "fill": {
              "color": "#EBF0F8"
             },
             "line": {
              "color": "white"
             }
            },
            "header": {
             "fill": {
              "color": "#C8D4E3"
             },
             "line": {
              "color": "white"
             }
            },
            "type": "table"
           }
          ]
         },
         "layout": {
          "annotationdefaults": {
           "arrowcolor": "#2a3f5f",
           "arrowhead": 0,
           "arrowwidth": 1
          },
          "autotypenumbers": "strict",
          "coloraxis": {
           "colorbar": {
            "outlinewidth": 0,
            "ticks": ""
           }
          },
          "colorscale": {
           "diverging": [
            [
             0,
             "#8e0152"
            ],
            [
             0.1,
             "#c51b7d"
            ],
            [
             0.2,
             "#de77ae"
            ],
            [
             0.3,
             "#f1b6da"
            ],
            [
             0.4,
             "#fde0ef"
            ],
            [
             0.5,
             "#f7f7f7"
            ],
            [
             0.6,
             "#e6f5d0"
            ],
            [
             0.7,
             "#b8e186"
            ],
            [
             0.8,
             "#7fbc41"
            ],
            [
             0.9,
             "#4d9221"
            ],
            [
             1,
             "#276419"
            ]
           ],
           "sequential": [
            [
             0,
             "#0d0887"
            ],
            [
             0.1111111111111111,
             "#46039f"
            ],
            [
             0.2222222222222222,
             "#7201a8"
            ],
            [
             0.3333333333333333,
             "#9c179e"
            ],
            [
             0.4444444444444444,
             "#bd3786"
            ],
            [
             0.5555555555555556,
             "#d8576b"
            ],
            [
             0.6666666666666666,
             "#ed7953"
            ],
            [
             0.7777777777777778,
             "#fb9f3a"
            ],
            [
             0.8888888888888888,
             "#fdca26"
            ],
            [
             1,
             "#f0f921"
            ]
           ],
           "sequentialminus": [
            [
             0,
             "#0d0887"
            ],
            [
             0.1111111111111111,
             "#46039f"
            ],
            [
             0.2222222222222222,
             "#7201a8"
            ],
            [
             0.3333333333333333,
             "#9c179e"
            ],
            [
             0.4444444444444444,
             "#bd3786"
            ],
            [
             0.5555555555555556,
             "#d8576b"
            ],
            [
             0.6666666666666666,
             "#ed7953"
            ],
            [
             0.7777777777777778,
             "#fb9f3a"
            ],
            [
             0.8888888888888888,
             "#fdca26"
            ],
            [
             1,
             "#f0f921"
            ]
           ]
          },
          "colorway": [
           "#636efa",
           "#EF553B",
           "#00cc96",
           "#ab63fa",
           "#FFA15A",
           "#19d3f3",
           "#FF6692",
           "#B6E880",
           "#FF97FF",
           "#FECB52"
          ],
          "font": {
           "color": "#2a3f5f"
          },
          "geo": {
           "bgcolor": "white",
           "lakecolor": "white",
           "landcolor": "white",
           "showlakes": true,
           "showland": true,
           "subunitcolor": "#C8D4E3"
          },
          "hoverlabel": {
           "align": "left"
          },
          "hovermode": "closest",
          "mapbox": {
           "style": "light"
          },
          "paper_bgcolor": "white",
          "plot_bgcolor": "white",
          "polar": {
           "angularaxis": {
            "gridcolor": "#EBF0F8",
            "linecolor": "#EBF0F8",
            "ticks": ""
           },
           "bgcolor": "white",
           "radialaxis": {
            "gridcolor": "#EBF0F8",
            "linecolor": "#EBF0F8",
            "ticks": ""
           }
          },
          "scene": {
           "xaxis": {
            "backgroundcolor": "white",
            "gridcolor": "#DFE8F3",
            "gridwidth": 2,
            "linecolor": "#EBF0F8",
            "showbackground": true,
            "ticks": "",
            "zerolinecolor": "#EBF0F8"
           },
           "yaxis": {
            "backgroundcolor": "white",
            "gridcolor": "#DFE8F3",
            "gridwidth": 2,
            "linecolor": "#EBF0F8",
            "showbackground": true,
            "ticks": "",
            "zerolinecolor": "#EBF0F8"
           },
           "zaxis": {
            "backgroundcolor": "white",
            "gridcolor": "#DFE8F3",
            "gridwidth": 2,
            "linecolor": "#EBF0F8",
            "showbackground": true,
            "ticks": "",
            "zerolinecolor": "#EBF0F8"
           }
          },
          "shapedefaults": {
           "line": {
            "color": "#2a3f5f"
           }
          },
          "ternary": {
           "aaxis": {
            "gridcolor": "#DFE8F3",
            "linecolor": "#A2B1C6",
            "ticks": ""
           },
           "baxis": {
            "gridcolor": "#DFE8F3",
            "linecolor": "#A2B1C6",
            "ticks": ""
           },
           "bgcolor": "white",
           "caxis": {
            "gridcolor": "#DFE8F3",
            "linecolor": "#A2B1C6",
            "ticks": ""
           }
          },
          "title": {
           "x": 0.05
          },
          "xaxis": {
           "automargin": true,
           "gridcolor": "#EBF0F8",
           "linecolor": "#EBF0F8",
           "ticks": "",
           "title": {
            "standoff": 15
           },
           "zerolinecolor": "#EBF0F8",
           "zerolinewidth": 2
          },
          "yaxis": {
           "automargin": true,
           "gridcolor": "#EBF0F8",
           "linecolor": "#EBF0F8",
           "ticks": "",
           "title": {
            "standoff": 15
           },
           "zerolinecolor": "#EBF0F8",
           "zerolinewidth": 2
          }
         }
        },
        "title": {
         "text": "Top 10 serviços conhecidos e assinados"
        },
        "xaxis": {
         "anchor": "y",
         "domain": [
          0,
          0.45
         ],
         "range": [
          0,
          235
         ],
         "visible": false
        },
        "xaxis2": {
         "anchor": "y2",
         "domain": [
          0.55,
          1
         ],
         "range": [
          0,
          235
         ],
         "visible": false
        },
        "yaxis": {
         "anchor": "x",
         "domain": [
          0,
          1
         ]
        },
        "yaxis2": {
         "anchor": "x2",
         "domain": [
          0,
          1
         ]
        }
       }
      }
     },
     "metadata": {},
     "output_type": "display_data"
    }
   ],
   "source": [
    "fig = make_subplots(rows=1, cols=2, subplot_titles=(\"Conhecidos\", \"Assinados\"))\n",
    "fig.add_trace(go.Bar(y=list(count_servicos_conhecidos.keys())[-10:], \n",
    "                     x=list(count_servicos_conhecidos.values())[-10:], \n",
    "                     orientation=\"h\",\n",
    "                     name=\"\",\n",
    "                     text=list(count_servicos_conhecidos.values())[-10:],\n",
    "                     textposition=\"outside\",\n",
    "                     ), \n",
    "              row=1, col=1)\n",
    "fig.add_trace(go.Bar(y=list(count_servicos_assinados.keys())[-10:], \n",
    "                     x=list(count_servicos_assinados.values())[-10:], \n",
    "                     orientation=\"h\", \n",
    "                     name=\"\",\n",
    "                     text=list(count_servicos_assinados.values())[-10:],\n",
    "                     textposition=\"outside\",), \n",
    "              row=1, col=2)\n",
    "fig.update_layout(template=\"plotly_white\",\n",
    "                  title=\"Top 10 serviços conhecidos e assinados\",\n",
    "                  showlegend=False,\n",
    ")\n",
    "fig.update_xaxes(range=[0, 235], visible=False, row=1, col=1)\n",
    "fig.update_xaxes(range=[0, 235], visible=False, row=1, col=2)\n",
    "fig.show()"
   ]
  },
  {
   "cell_type": "code",
   "execution_count": 391,
   "metadata": {},
   "outputs": [
    {
     "data": {
      "application/vnd.plotly.v1+json": {
       "config": {
        "plotlyServerURL": "https://plot.ly"
       },
       "data": [
        {
         "boxmean": true,
         "name": "Semanal",
         "type": "box",
         "xaxis": "x",
         "y": [
          1,
          0,
          1,
          5,
          4,
          1,
          3,
          0,
          4,
          0,
          1,
          2,
          2,
          3,
          7,
          1,
          1,
          1,
          4,
          2,
          6,
          2,
          3,
          1,
          1,
          1,
          1,
          2,
          2,
          1,
          1,
          0,
          8,
          1,
          1,
          2,
          1,
          3,
          1,
          2,
          8,
          2,
          2,
          0,
          1,
          3,
          1,
          1,
          2,
          1,
          1,
          2,
          4,
          2,
          2,
          1,
          2,
          1,
          1,
          1,
          0,
          1,
          3,
          2,
          1,
          0,
          3,
          1,
          0,
          1,
          0,
          1,
          2,
          3,
          2,
          0,
          1,
          2,
          2,
          4,
          7,
          2,
          1,
          1,
          2,
          2,
          1,
          2,
          2,
          2,
          1,
          3,
          2,
          1,
          3,
          4,
          1,
          3,
          0,
          0,
          0,
          4,
          1,
          3,
          4,
          2,
          3,
          1,
          2,
          0,
          1,
          2,
          2,
          1,
          7,
          0,
          2,
          5,
          5,
          3,
          5,
          2,
          2,
          0,
          0,
          1,
          2,
          1,
          5,
          1,
          3,
          0,
          2,
          1,
          1,
          4,
          1,
          2,
          1,
          2,
          2,
          1,
          2,
          3,
          0,
          5,
          1,
          3,
          1,
          0,
          1,
          4,
          1,
          0,
          4,
          2,
          1,
          1,
          2,
          1,
          2,
          0,
          1,
          2,
          1,
          0,
          0,
          3,
          3,
          2,
          2,
          3,
          1,
          0,
          2,
          5,
          4,
          2,
          3,
          0,
          8,
          2,
          0,
          0,
          5,
          1,
          1,
          1,
          2,
          1,
          5,
          2,
          3,
          0,
          2,
          2,
          1,
          2,
          1,
          1,
          1,
          6,
          2,
          6,
          3,
          1,
          1,
          2,
          2,
          5,
          3,
          0,
          1
         ],
         "yaxis": "y"
        },
        {
         "boxmean": true,
         "name": "Final de semana",
         "type": "box",
         "xaxis": "x2",
         "y": [
          2,
          1,
          1,
          6,
          6,
          2,
          4,
          0,
          4,
          1,
          2,
          4,
          3,
          5,
          4,
          3,
          2,
          1,
          5,
          0,
          6,
          3,
          6,
          2,
          2,
          1,
          3,
          4,
          3,
          5,
          2,
          0,
          6,
          3,
          3,
          2,
          3,
          4,
          2,
          4,
          8,
          3,
          4,
          1,
          1,
          4,
          2,
          1,
          6,
          1,
          2,
          4,
          4,
          4,
          4,
          3,
          3,
          2,
          3,
          3,
          0,
          5,
          1,
          4,
          2,
          2,
          4,
          3,
          2,
          2,
          2,
          2,
          4,
          6,
          2,
          0,
          2,
          4,
          5,
          4,
          8,
          6,
          2,
          2,
          3,
          1,
          0,
          2,
          2,
          3,
          4,
          2,
          2,
          3,
          4,
          6,
          2,
          3,
          4,
          1,
          1,
          1,
          1,
          8,
          2,
          8,
          8,
          2,
          5,
          4,
          4,
          2,
          3,
          3,
          2,
          0,
          5,
          5,
          3,
          6,
          2,
          4,
          2,
          3,
          2,
          3,
          2,
          4,
          5,
          3,
          2,
          2,
          4,
          2,
          1,
          8,
          5,
          7,
          3,
          7,
          5,
          6,
          4,
          5,
          4,
          3,
          4,
          4,
          3,
          0,
          3,
          6,
          4,
          1,
          3,
          3,
          3,
          1,
          6,
          2,
          4,
          1,
          2,
          2,
          3,
          2,
          3,
          5,
          4,
          4,
          4,
          5,
          3,
          2,
          4,
          2,
          5,
          4,
          1,
          3,
          2,
          3,
          1,
          2,
          5,
          2,
          1,
          2,
          4,
          1,
          2,
          6,
          0,
          4,
          4,
          2,
          4,
          5,
          2,
          4,
          6,
          5,
          2,
          8,
          6,
          3,
          2,
          3,
          2,
          1,
          0,
          0,
          2
         ],
         "yaxis": "y2"
        }
       ],
       "layout": {
        "height": 500,
        "showlegend": false,
        "template": {
         "data": {
          "bar": [
           {
            "error_x": {
             "color": "#2a3f5f"
            },
            "error_y": {
             "color": "#2a3f5f"
            },
            "marker": {
             "line": {
              "color": "white",
              "width": 0.5
             },
             "pattern": {
              "fillmode": "overlay",
              "size": 10,
              "solidity": 0.2
             }
            },
            "type": "bar"
           }
          ],
          "barpolar": [
           {
            "marker": {
             "line": {
              "color": "white",
              "width": 0.5
             },
             "pattern": {
              "fillmode": "overlay",
              "size": 10,
              "solidity": 0.2
             }
            },
            "type": "barpolar"
           }
          ],
          "carpet": [
           {
            "aaxis": {
             "endlinecolor": "#2a3f5f",
             "gridcolor": "#C8D4E3",
             "linecolor": "#C8D4E3",
             "minorgridcolor": "#C8D4E3",
             "startlinecolor": "#2a3f5f"
            },
            "baxis": {
             "endlinecolor": "#2a3f5f",
             "gridcolor": "#C8D4E3",
             "linecolor": "#C8D4E3",
             "minorgridcolor": "#C8D4E3",
             "startlinecolor": "#2a3f5f"
            },
            "type": "carpet"
           }
          ],
          "choropleth": [
           {
            "colorbar": {
             "outlinewidth": 0,
             "ticks": ""
            },
            "type": "choropleth"
           }
          ],
          "contour": [
           {
            "colorbar": {
             "outlinewidth": 0,
             "ticks": ""
            },
            "colorscale": [
             [
              0,
              "#0d0887"
             ],
             [
              0.1111111111111111,
              "#46039f"
             ],
             [
              0.2222222222222222,
              "#7201a8"
             ],
             [
              0.3333333333333333,
              "#9c179e"
             ],
             [
              0.4444444444444444,
              "#bd3786"
             ],
             [
              0.5555555555555556,
              "#d8576b"
             ],
             [
              0.6666666666666666,
              "#ed7953"
             ],
             [
              0.7777777777777778,
              "#fb9f3a"
             ],
             [
              0.8888888888888888,
              "#fdca26"
             ],
             [
              1,
              "#f0f921"
             ]
            ],
            "type": "contour"
           }
          ],
          "contourcarpet": [
           {
            "colorbar": {
             "outlinewidth": 0,
             "ticks": ""
            },
            "type": "contourcarpet"
           }
          ],
          "heatmap": [
           {
            "colorbar": {
             "outlinewidth": 0,
             "ticks": ""
            },
            "colorscale": [
             [
              0,
              "#0d0887"
             ],
             [
              0.1111111111111111,
              "#46039f"
             ],
             [
              0.2222222222222222,
              "#7201a8"
             ],
             [
              0.3333333333333333,
              "#9c179e"
             ],
             [
              0.4444444444444444,
              "#bd3786"
             ],
             [
              0.5555555555555556,
              "#d8576b"
             ],
             [
              0.6666666666666666,
              "#ed7953"
             ],
             [
              0.7777777777777778,
              "#fb9f3a"
             ],
             [
              0.8888888888888888,
              "#fdca26"
             ],
             [
              1,
              "#f0f921"
             ]
            ],
            "type": "heatmap"
           }
          ],
          "heatmapgl": [
           {
            "colorbar": {
             "outlinewidth": 0,
             "ticks": ""
            },
            "colorscale": [
             [
              0,
              "#0d0887"
             ],
             [
              0.1111111111111111,
              "#46039f"
             ],
             [
              0.2222222222222222,
              "#7201a8"
             ],
             [
              0.3333333333333333,
              "#9c179e"
             ],
             [
              0.4444444444444444,
              "#bd3786"
             ],
             [
              0.5555555555555556,
              "#d8576b"
             ],
             [
              0.6666666666666666,
              "#ed7953"
             ],
             [
              0.7777777777777778,
              "#fb9f3a"
             ],
             [
              0.8888888888888888,
              "#fdca26"
             ],
             [
              1,
              "#f0f921"
             ]
            ],
            "type": "heatmapgl"
           }
          ],
          "histogram": [
           {
            "marker": {
             "pattern": {
              "fillmode": "overlay",
              "size": 10,
              "solidity": 0.2
             }
            },
            "type": "histogram"
           }
          ],
          "histogram2d": [
           {
            "colorbar": {
             "outlinewidth": 0,
             "ticks": ""
            },
            "colorscale": [
             [
              0,
              "#0d0887"
             ],
             [
              0.1111111111111111,
              "#46039f"
             ],
             [
              0.2222222222222222,
              "#7201a8"
             ],
             [
              0.3333333333333333,
              "#9c179e"
             ],
             [
              0.4444444444444444,
              "#bd3786"
             ],
             [
              0.5555555555555556,
              "#d8576b"
             ],
             [
              0.6666666666666666,
              "#ed7953"
             ],
             [
              0.7777777777777778,
              "#fb9f3a"
             ],
             [
              0.8888888888888888,
              "#fdca26"
             ],
             [
              1,
              "#f0f921"
             ]
            ],
            "type": "histogram2d"
           }
          ],
          "histogram2dcontour": [
           {
            "colorbar": {
             "outlinewidth": 0,
             "ticks": ""
            },
            "colorscale": [
             [
              0,
              "#0d0887"
             ],
             [
              0.1111111111111111,
              "#46039f"
             ],
             [
              0.2222222222222222,
              "#7201a8"
             ],
             [
              0.3333333333333333,
              "#9c179e"
             ],
             [
              0.4444444444444444,
              "#bd3786"
             ],
             [
              0.5555555555555556,
              "#d8576b"
             ],
             [
              0.6666666666666666,
              "#ed7953"
             ],
             [
              0.7777777777777778,
              "#fb9f3a"
             ],
             [
              0.8888888888888888,
              "#fdca26"
             ],
             [
              1,
              "#f0f921"
             ]
            ],
            "type": "histogram2dcontour"
           }
          ],
          "mesh3d": [
           {
            "colorbar": {
             "outlinewidth": 0,
             "ticks": ""
            },
            "type": "mesh3d"
           }
          ],
          "parcoords": [
           {
            "line": {
             "colorbar": {
              "outlinewidth": 0,
              "ticks": ""
             }
            },
            "type": "parcoords"
           }
          ],
          "pie": [
           {
            "automargin": true,
            "type": "pie"
           }
          ],
          "scatter": [
           {
            "marker": {
             "colorbar": {
              "outlinewidth": 0,
              "ticks": ""
             }
            },
            "type": "scatter"
           }
          ],
          "scatter3d": [
           {
            "line": {
             "colorbar": {
              "outlinewidth": 0,
              "ticks": ""
             }
            },
            "marker": {
             "colorbar": {
              "outlinewidth": 0,
              "ticks": ""
             }
            },
            "type": "scatter3d"
           }
          ],
          "scattercarpet": [
           {
            "marker": {
             "colorbar": {
              "outlinewidth": 0,
              "ticks": ""
             }
            },
            "type": "scattercarpet"
           }
          ],
          "scattergeo": [
           {
            "marker": {
             "colorbar": {
              "outlinewidth": 0,
              "ticks": ""
             }
            },
            "type": "scattergeo"
           }
          ],
          "scattergl": [
           {
            "marker": {
             "colorbar": {
              "outlinewidth": 0,
              "ticks": ""
             }
            },
            "type": "scattergl"
           }
          ],
          "scattermapbox": [
           {
            "marker": {
             "colorbar": {
              "outlinewidth": 0,
              "ticks": ""
             }
            },
            "type": "scattermapbox"
           }
          ],
          "scatterpolar": [
           {
            "marker": {
             "colorbar": {
              "outlinewidth": 0,
              "ticks": ""
             }
            },
            "type": "scatterpolar"
           }
          ],
          "scatterpolargl": [
           {
            "marker": {
             "colorbar": {
              "outlinewidth": 0,
              "ticks": ""
             }
            },
            "type": "scatterpolargl"
           }
          ],
          "scatterternary": [
           {
            "marker": {
             "colorbar": {
              "outlinewidth": 0,
              "ticks": ""
             }
            },
            "type": "scatterternary"
           }
          ],
          "surface": [
           {
            "colorbar": {
             "outlinewidth": 0,
             "ticks": ""
            },
            "colorscale": [
             [
              0,
              "#0d0887"
             ],
             [
              0.1111111111111111,
              "#46039f"
             ],
             [
              0.2222222222222222,
              "#7201a8"
             ],
             [
              0.3333333333333333,
              "#9c179e"
             ],
             [
              0.4444444444444444,
              "#bd3786"
             ],
             [
              0.5555555555555556,
              "#d8576b"
             ],
             [
              0.6666666666666666,
              "#ed7953"
             ],
             [
              0.7777777777777778,
              "#fb9f3a"
             ],
             [
              0.8888888888888888,
              "#fdca26"
             ],
             [
              1,
              "#f0f921"
             ]
            ],
            "type": "surface"
           }
          ],
          "table": [
           {
            "cells": {
             "fill": {
              "color": "#EBF0F8"
             },
             "line": {
              "color": "white"
             }
            },
            "header": {
             "fill": {
              "color": "#C8D4E3"
             },
             "line": {
              "color": "white"
             }
            },
            "type": "table"
           }
          ]
         },
         "layout": {
          "annotationdefaults": {
           "arrowcolor": "#2a3f5f",
           "arrowhead": 0,
           "arrowwidth": 1
          },
          "autotypenumbers": "strict",
          "coloraxis": {
           "colorbar": {
            "outlinewidth": 0,
            "ticks": ""
           }
          },
          "colorscale": {
           "diverging": [
            [
             0,
             "#8e0152"
            ],
            [
             0.1,
             "#c51b7d"
            ],
            [
             0.2,
             "#de77ae"
            ],
            [
             0.3,
             "#f1b6da"
            ],
            [
             0.4,
             "#fde0ef"
            ],
            [
             0.5,
             "#f7f7f7"
            ],
            [
             0.6,
             "#e6f5d0"
            ],
            [
             0.7,
             "#b8e186"
            ],
            [
             0.8,
             "#7fbc41"
            ],
            [
             0.9,
             "#4d9221"
            ],
            [
             1,
             "#276419"
            ]
           ],
           "sequential": [
            [
             0,
             "#0d0887"
            ],
            [
             0.1111111111111111,
             "#46039f"
            ],
            [
             0.2222222222222222,
             "#7201a8"
            ],
            [
             0.3333333333333333,
             "#9c179e"
            ],
            [
             0.4444444444444444,
             "#bd3786"
            ],
            [
             0.5555555555555556,
             "#d8576b"
            ],
            [
             0.6666666666666666,
             "#ed7953"
            ],
            [
             0.7777777777777778,
             "#fb9f3a"
            ],
            [
             0.8888888888888888,
             "#fdca26"
            ],
            [
             1,
             "#f0f921"
            ]
           ],
           "sequentialminus": [
            [
             0,
             "#0d0887"
            ],
            [
             0.1111111111111111,
             "#46039f"
            ],
            [
             0.2222222222222222,
             "#7201a8"
            ],
            [
             0.3333333333333333,
             "#9c179e"
            ],
            [
             0.4444444444444444,
             "#bd3786"
            ],
            [
             0.5555555555555556,
             "#d8576b"
            ],
            [
             0.6666666666666666,
             "#ed7953"
            ],
            [
             0.7777777777777778,
             "#fb9f3a"
            ],
            [
             0.8888888888888888,
             "#fdca26"
            ],
            [
             1,
             "#f0f921"
            ]
           ]
          },
          "colorway": [
           "#636efa",
           "#EF553B",
           "#00cc96",
           "#ab63fa",
           "#FFA15A",
           "#19d3f3",
           "#FF6692",
           "#B6E880",
           "#FF97FF",
           "#FECB52"
          ],
          "font": {
           "color": "#2a3f5f"
          },
          "geo": {
           "bgcolor": "white",
           "lakecolor": "white",
           "landcolor": "white",
           "showlakes": true,
           "showland": true,
           "subunitcolor": "#C8D4E3"
          },
          "hoverlabel": {
           "align": "left"
          },
          "hovermode": "closest",
          "mapbox": {
           "style": "light"
          },
          "paper_bgcolor": "white",
          "plot_bgcolor": "white",
          "polar": {
           "angularaxis": {
            "gridcolor": "#EBF0F8",
            "linecolor": "#EBF0F8",
            "ticks": ""
           },
           "bgcolor": "white",
           "radialaxis": {
            "gridcolor": "#EBF0F8",
            "linecolor": "#EBF0F8",
            "ticks": ""
           }
          },
          "scene": {
           "xaxis": {
            "backgroundcolor": "white",
            "gridcolor": "#DFE8F3",
            "gridwidth": 2,
            "linecolor": "#EBF0F8",
            "showbackground": true,
            "ticks": "",
            "zerolinecolor": "#EBF0F8"
           },
           "yaxis": {
            "backgroundcolor": "white",
            "gridcolor": "#DFE8F3",
            "gridwidth": 2,
            "linecolor": "#EBF0F8",
            "showbackground": true,
            "ticks": "",
            "zerolinecolor": "#EBF0F8"
           },
           "zaxis": {
            "backgroundcolor": "white",
            "gridcolor": "#DFE8F3",
            "gridwidth": 2,
            "linecolor": "#EBF0F8",
            "showbackground": true,
            "ticks": "",
            "zerolinecolor": "#EBF0F8"
           }
          },
          "shapedefaults": {
           "line": {
            "color": "#2a3f5f"
           }
          },
          "ternary": {
           "aaxis": {
            "gridcolor": "#DFE8F3",
            "linecolor": "#A2B1C6",
            "ticks": ""
           },
           "baxis": {
            "gridcolor": "#DFE8F3",
            "linecolor": "#A2B1C6",
            "ticks": ""
           },
           "bgcolor": "white",
           "caxis": {
            "gridcolor": "#DFE8F3",
            "linecolor": "#A2B1C6",
            "ticks": ""
           }
          },
          "title": {
           "x": 0.05
          },
          "xaxis": {
           "automargin": true,
           "gridcolor": "#EBF0F8",
           "linecolor": "#EBF0F8",
           "ticks": "",
           "title": {
            "standoff": 15
           },
           "zerolinecolor": "#EBF0F8",
           "zerolinewidth": 2
          },
          "yaxis": {
           "automargin": true,
           "gridcolor": "#EBF0F8",
           "linecolor": "#EBF0F8",
           "ticks": "",
           "title": {
            "standoff": 15
           },
           "zerolinecolor": "#EBF0F8",
           "zerolinewidth": 2
          }
         }
        },
        "title": {
         "text": "Horas de uso"
        },
        "width": 800,
        "xaxis": {
         "anchor": "y",
         "domain": [
          0,
          0.45
         ]
        },
        "xaxis2": {
         "anchor": "y2",
         "domain": [
          0.55,
          1
         ]
        },
        "yaxis": {
         "anchor": "x",
         "domain": [
          0,
          1
         ],
         "title": {
          "text": "Horas de uso"
         }
        },
        "yaxis2": {
         "anchor": "x2",
         "domain": [
          0,
          1
         ],
         "matches": "y",
         "showticklabels": false
        }
       }
      }
     },
     "metadata": {},
     "output_type": "display_data"
    }
   ],
   "source": [
    "### Horas de uso\n",
    "fig = make_subplots(rows=1, cols=2, shared_yaxes=True)\n",
    "fig.add_trace(go.Box(y=df.hrs_semana, name=\"Semanal\", boxmean=True), row=1, col=1)\n",
    "fig.add_trace(go.Box(y=df.hrs_fds, name=\"Final de semana\", boxmean=True), row=1, col=2)\n",
    "fig.update_layout(template=\"plotly_white\",\n",
    "                  title=\"Horas de uso\",\n",
    "                  yaxis={\"title\": \"Horas de uso\",\n",
    "                  },\n",
    "                  width=800,\n",
    "                  height=500,\n",
    "                  showlegend=False,\n",
    "                  )\n",
    "fig.show()"
   ]
  },
  {
   "cell_type": "markdown",
   "metadata": {},
   "source": [
    "A média de horas assistidas por dia no final de semana é 50% maior do que durante a semana."
   ]
  },
  {
   "cell_type": "markdown",
   "metadata": {},
   "source": [
    "## Categoria das variáveis\n",
    "### Quantitativas\n",
    "- n_servicos_conhecidos\n",
    "- n_servicos_assinados\n",
    "- idade\n",
    "- hrs_semana\n",
    "- hrs_fds\n",
    "\n",
    "### Qualitativas\n",
    "- servicos_gosto\n",
    "- genero\n",
    "- ocupacao\n",
    "- n_criancas\n",
    "- conteudo_preferido\n",
    "- dispositivos\n",
    "- preco_justo\n",
    "- renda\n",
    "- melhorias\n",
    "\n",
    "\n",
    "## Ideias de Análise\n",
    "### Análise Univariada\n",
    "- histograma e boxplot de quants\n",
    "- servicos graficos de barras\n",
    "- grafico de barras de qualis\n",
    "\n",
    "### Análise Bivariada\n",
    "- renda com preco_justo\n",
    "- renda com numero de serviços assinados\n",
    "- linha ou area preco justo e valores reais de cada serviço"
   ]
  }
 ],
 "metadata": {
  "interpreter": {
   "hash": "d372cf159c702d88e76d61195e98430beac9dd3af1b06e023fe96d56fc46f6da"
  },
  "kernelspec": {
   "display_name": "Python 3.9.7 ('ai-env')",
   "language": "python",
   "name": "python3"
  },
  "language_info": {
   "codemirror_mode": {
    "name": "ipython",
    "version": 3
   },
   "file_extension": ".py",
   "mimetype": "text/x-python",
   "name": "python",
   "nbconvert_exporter": "python",
   "pygments_lexer": "ipython3",
   "version": "3.9.7"
  },
  "orig_nbformat": 4
 },
 "nbformat": 4,
 "nbformat_minor": 2
}
